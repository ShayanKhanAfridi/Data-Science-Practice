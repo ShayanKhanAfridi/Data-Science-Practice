{
  "nbformat": 4,
  "nbformat_minor": 0,
  "metadata": {
    "colab": {
      "provenance": []
    },
    "kernelspec": {
      "name": "python3",
      "display_name": "Python 3"
    },
    "language_info": {
      "name": "python"
    }
  },
  "cells": [
    {
      "cell_type": "code",
      "execution_count": 1,
      "metadata": {
        "id": "tu2DQ3mlvY5i"
      },
      "outputs": [],
      "source": [
        "import numpy as np"
      ]
    },
    {
      "cell_type": "markdown",
      "source": [
        "# **Creating Numpy Arrays**\n",
        "\n",
        "---\n",
        "\n"
      ],
      "metadata": {
        "id": "77Jj6v1KzwU-"
      }
    },
    {
      "cell_type": "markdown",
      "source": [
        "# **1D Array**"
      ],
      "metadata": {
        "id": "cYro9V530-Vb"
      }
    },
    {
      "cell_type": "code",
      "source": [
        "a = np.array([1,2,3,4])\n",
        "print(a)"
      ],
      "metadata": {
        "colab": {
          "base_uri": "https://localhost:8080/",
          "height": 0
        },
        "id": "9wlrXwynywjK",
        "outputId": "5048c9f0-1d24-4493-a3ed-56b4ca5a913e"
      },
      "execution_count": 2,
      "outputs": [
        {
          "output_type": "stream",
          "name": "stdout",
          "text": [
            "[1 2 3 4]\n"
          ]
        }
      ]
    },
    {
      "cell_type": "markdown",
      "source": [
        "## **From User Input**"
      ],
      "metadata": {
        "id": "QTEFdX_J0PnT"
      }
    },
    {
      "cell_type": "code",
      "source": [
        "\"\"\"\n",
        "l = []\n",
        "for i in range(1,5):\n",
        "  no = int(input(\"Enter elements of numpy array\"))\n",
        "  l.append(no)\n",
        "print(l)\n",
        "\"\"\""
      ],
      "metadata": {
        "colab": {
          "base_uri": "https://localhost:8080/",
          "height": 35
        },
        "id": "BvGcU283y4D3",
        "outputId": "4493e167-5fe2-4126-8d89-5fb48cc7daa1"
      },
      "execution_count": 3,
      "outputs": [
        {
          "output_type": "execute_result",
          "data": {
            "text/plain": [
              "'\\nl = []\\nfor i in range(1,5):\\n  no = int(input(\"Enter elements of numpy array\"))\\n  l.append(no)\\nprint(l)\\n'"
            ],
            "application/vnd.google.colaboratory.intrinsic+json": {
              "type": "string"
            }
          },
          "metadata": {},
          "execution_count": 3
        }
      ]
    },
    {
      "cell_type": "markdown",
      "source": [
        "# **2D Array**"
      ],
      "metadata": {
        "id": "Vkpk4Vsn1ReL"
      }
    },
    {
      "cell_type": "code",
      "source": [
        "arr = np.array([[1,2,3,4],[5,6,7,8]])\n",
        "print(arr)\n",
        "print(\"Dimension of Arrar :\",arr.ndim,\"D\")"
      ],
      "metadata": {
        "colab": {
          "base_uri": "https://localhost:8080/",
          "height": 0
        },
        "id": "ND10B18Jy5SW",
        "outputId": "506c00b0-2aba-41b2-afd8-d1c9aadca39b"
      },
      "execution_count": 4,
      "outputs": [
        {
          "output_type": "stream",
          "name": "stdout",
          "text": [
            "[[1 2 3 4]\n",
            " [5 6 7 8]]\n",
            "Dimension of Arrar : 2 D\n"
          ]
        }
      ]
    },
    {
      "cell_type": "markdown",
      "source": [
        "# **3D Array**"
      ],
      "metadata": {
        "id": "SEYwO0Mo1vq7"
      }
    },
    {
      "cell_type": "code",
      "source": [
        "arr1 = np.array([[[1,2,3],[4,5,6],[7,8,9]]])\n",
        "print(arr1)\n",
        "print(\"Dimension of Arrar :\",arr1.ndim,\"D\")"
      ],
      "metadata": {
        "colab": {
          "base_uri": "https://localhost:8080/",
          "height": 0
        },
        "id": "fa9B4vvh1bF6",
        "outputId": "ce74de7f-b5b0-4d38-f105-085ebbf5d230"
      },
      "execution_count": 5,
      "outputs": [
        {
          "output_type": "stream",
          "name": "stdout",
          "text": [
            "[[[1 2 3]\n",
            "  [4 5 6]\n",
            "  [7 8 9]]]\n",
            "Dimension of Arrar : 3 D\n"
          ]
        }
      ]
    },
    {
      "cell_type": "markdown",
      "source": [
        "# **Special Numpy Arrays**\n",
        "\n",
        "---\n",
        "\n"
      ],
      "metadata": {
        "id": "LEwR0VUc2zYN"
      }
    },
    {
      "cell_type": "markdown",
      "source": [
        "## **Zeros**"
      ],
      "metadata": {
        "id": "cJYavzeY289K"
      }
    },
    {
      "cell_type": "code",
      "source": [
        "zeroarr = np.zeros(4)\n",
        "print(zeroarr)"
      ],
      "metadata": {
        "colab": {
          "base_uri": "https://localhost:8080/",
          "height": 0
        },
        "id": "E8aAW1WK2V-Y",
        "outputId": "9afa56a6-0d3c-45d4-a40b-28b0861285ed"
      },
      "execution_count": 6,
      "outputs": [
        {
          "output_type": "stream",
          "name": "stdout",
          "text": [
            "[0. 0. 0. 0.]\n"
          ]
        }
      ]
    },
    {
      "cell_type": "code",
      "source": [
        "zeroarr2 = np.zeros((3,4))   # 3 rows and 4 columns\n",
        "print(zeroarr2)"
      ],
      "metadata": {
        "colab": {
          "base_uri": "https://localhost:8080/",
          "height": 0
        },
        "id": "2gpfTrSs3FG-",
        "outputId": "770fd577-f1e0-4c93-ebca-aae95ade3db5"
      },
      "execution_count": 7,
      "outputs": [
        {
          "output_type": "stream",
          "name": "stdout",
          "text": [
            "[[0. 0. 0. 0.]\n",
            " [0. 0. 0. 0.]\n",
            " [0. 0. 0. 0.]]\n"
          ]
        }
      ]
    },
    {
      "cell_type": "markdown",
      "source": [
        "## **Ones**"
      ],
      "metadata": {
        "id": "XWyCY_ni3cfS"
      }
    },
    {
      "cell_type": "code",
      "source": [
        "onesarr1 = np.ones(3)\n",
        "print(onesarr1)"
      ],
      "metadata": {
        "colab": {
          "base_uri": "https://localhost:8080/",
          "height": 0
        },
        "id": "rEgXKunv3MvM",
        "outputId": "e5db69c2-40b7-4862-a095-60e46b8249ee"
      },
      "execution_count": 8,
      "outputs": [
        {
          "output_type": "stream",
          "name": "stdout",
          "text": [
            "[1. 1. 1.]\n"
          ]
        }
      ]
    },
    {
      "cell_type": "code",
      "source": [
        "onesarr2 = np.ones((3,3))    # 3 rows and 3 columns\n",
        "print(onesarr2)"
      ],
      "metadata": {
        "colab": {
          "base_uri": "https://localhost:8080/",
          "height": 0
        },
        "id": "2MxnJ9JK3irx",
        "outputId": "51298cd5-bfa4-40d3-f0ef-4e359e7abf57"
      },
      "execution_count": 9,
      "outputs": [
        {
          "output_type": "stream",
          "name": "stdout",
          "text": [
            "[[1. 1. 1.]\n",
            " [1. 1. 1.]\n",
            " [1. 1. 1.]]\n"
          ]
        }
      ]
    },
    {
      "cell_type": "markdown",
      "source": [
        "## **Range**\n",
        "\n",
        "\n",
        "\n",
        "\n"
      ],
      "metadata": {
        "id": "38Q5Y2x_4A7q"
      }
    },
    {
      "cell_type": "code",
      "source": [
        "rangearr1 = np.arange(4)    #Sequence me de dega\n",
        "print(rangearr1)"
      ],
      "metadata": {
        "colab": {
          "base_uri": "https://localhost:8080/",
          "height": 0
        },
        "id": "EeDooRZg32ks",
        "outputId": "0d37e343-6c5b-494c-d0c6-e884c33556d8"
      },
      "execution_count": 10,
      "outputs": [
        {
          "output_type": "stream",
          "name": "stdout",
          "text": [
            "[0 1 2 3]\n"
          ]
        }
      ]
    },
    {
      "cell_type": "code",
      "source": [
        "rangearr2 = np.arange(0,6)    #Sequence me de dega, start se aik kam last tak\n",
        "print(rangearr2)"
      ],
      "metadata": {
        "colab": {
          "base_uri": "https://localhost:8080/",
          "height": 0
        },
        "id": "S7JtcfdV4LcI",
        "outputId": "39819bf4-9ed6-4105-ddc5-ab930b200786"
      },
      "execution_count": 11,
      "outputs": [
        {
          "output_type": "stream",
          "name": "stdout",
          "text": [
            "[0 1 2 3 4 5]\n"
          ]
        }
      ]
    },
    {
      "cell_type": "markdown",
      "source": [
        "## **1 in Diagonal**"
      ],
      "metadata": {
        "id": "af7LeZ9p4ebb"
      }
    },
    {
      "cell_type": "code",
      "source": [
        "diaarr = np.eye(3)    # 3*3 ke matrix ke diagonal me 1 dedega baqi 0\n",
        "print(diaarr)"
      ],
      "metadata": {
        "colab": {
          "base_uri": "https://localhost:8080/",
          "height": 0
        },
        "id": "gWs8Dx194Zhg",
        "outputId": "c6fbf021-de27-4e43-a24e-71d093c9c4f4"
      },
      "execution_count": 12,
      "outputs": [
        {
          "output_type": "stream",
          "name": "stdout",
          "text": [
            "[[1. 0. 0.]\n",
            " [0. 1. 0.]\n",
            " [0. 0. 1.]]\n"
          ]
        }
      ]
    },
    {
      "cell_type": "markdown",
      "source": [
        "## **Linspace**\n",
        "\n",
        "> (0,10,6) 0-start, 10-end, 6-no. of elements\n",
        "\n"
      ],
      "metadata": {
        "id": "gp8h6Y6o5BOz"
      }
    },
    {
      "cell_type": "code",
      "source": [
        "linarr = np.linspace(0,10,6)\n",
        "print(linarr)"
      ],
      "metadata": {
        "colab": {
          "base_uri": "https://localhost:8080/",
          "height": 0
        },
        "id": "B3dWtWa145Ka",
        "outputId": "7be5c6c0-f385-4a0e-90e5-883e69c8b109"
      },
      "execution_count": 13,
      "outputs": [
        {
          "output_type": "stream",
          "name": "stdout",
          "text": [
            "[ 0.  2.  4.  6.  8. 10.]\n"
          ]
        }
      ]
    },
    {
      "cell_type": "code",
      "source": [
        "linarr1 = np.linspace(0,100,51)\n",
        "print(linarr1)"
      ],
      "metadata": {
        "colab": {
          "base_uri": "https://localhost:8080/",
          "height": 0
        },
        "id": "ZvqwVnss5i_8",
        "outputId": "09266535-50e7-47af-e694-29fbd0537210"
      },
      "execution_count": 14,
      "outputs": [
        {
          "output_type": "stream",
          "name": "stdout",
          "text": [
            "[  0.   2.   4.   6.   8.  10.  12.  14.  16.  18.  20.  22.  24.  26.\n",
            "  28.  30.  32.  34.  36.  38.  40.  42.  44.  46.  48.  50.  52.  54.\n",
            "  56.  58.  60.  62.  64.  66.  68.  70.  72.  74.  76.  78.  80.  82.\n",
            "  84.  86.  88.  90.  92.  94.  96.  98. 100.]\n"
          ]
        }
      ]
    },
    {
      "cell_type": "markdown",
      "source": [
        "# **Creating Numpy Arrays with random numbers**\n",
        "\n",
        "---\n",
        "\n"
      ],
      "metadata": {
        "id": "RlfbWLUu6OPn"
      }
    },
    {
      "cell_type": "markdown",
      "source": [
        "## **rand()**\n",
        "\n",
        "```\n",
        "# generate numbers between 0 and 1\n",
        "```\n",
        "\n"
      ],
      "metadata": {
        "id": "eTZp4PIP6ZTD"
      }
    },
    {
      "cell_type": "code",
      "source": [
        "rand_arr = np.random.rand(3)\n",
        "print(rand_arr)"
      ],
      "metadata": {
        "colab": {
          "base_uri": "https://localhost:8080/",
          "height": 0
        },
        "id": "WYAfgbwM6CSy",
        "outputId": "218a04ed-457e-4989-ce81-82a38d5bf1bc"
      },
      "execution_count": 15,
      "outputs": [
        {
          "output_type": "stream",
          "name": "stdout",
          "text": [
            "[0.85213347 0.54351469 0.68339582]\n"
          ]
        }
      ]
    },
    {
      "cell_type": "markdown",
      "source": [
        "## **randn()**\n",
        "\n",
        "```\n",
        "# Generate numbers closed to zero [+ve and -ve] both\n",
        "```\n",
        "\n"
      ],
      "metadata": {
        "id": "WLcTa3HW6ySj"
      }
    },
    {
      "cell_type": "code",
      "source": [
        "randn_arr = np.random.randn(5)\n",
        "print(randn_arr)"
      ],
      "metadata": {
        "colab": {
          "base_uri": "https://localhost:8080/",
          "height": 0
        },
        "id": "I0ap3eIR6hr7",
        "outputId": "a1d27bb6-f4ec-4126-827c-6a4aad317bbc"
      },
      "execution_count": 16,
      "outputs": [
        {
          "output_type": "stream",
          "name": "stdout",
          "text": [
            "[ 0.20913959 -1.67413659  0.211783    1.57952572  0.81605861]\n"
          ]
        }
      ]
    },
    {
      "cell_type": "markdown",
      "source": [
        "## **ranf()**\n",
        "\n",
        "```\n",
        "# Generate numbers between 0.0 and 1.0 (same as rand)\n",
        "\n",
        "```\n",
        "\n"
      ],
      "metadata": {
        "id": "TRiZFnGw7doj"
      }
    },
    {
      "cell_type": "code",
      "source": [
        "ranf_arr = np.random.ranf(4)\n",
        "print(ranf_arr)"
      ],
      "metadata": {
        "colab": {
          "base_uri": "https://localhost:8080/",
          "height": 0
        },
        "id": "QNjvSDPu7Unq",
        "outputId": "e03c36cd-afc1-4591-9fbb-c3029da6d3ab"
      },
      "execution_count": 17,
      "outputs": [
        {
          "output_type": "stream",
          "name": "stdout",
          "text": [
            "[0.14507423 0.35401886 0.9589006  0.38586219]\n"
          ]
        }
      ]
    },
    {
      "cell_type": "markdown",
      "source": [
        "## **randint()**\n",
        "(start, end, no)\n",
        "```\n",
        "# Generate n number of elements from start to end\n",
        "```\n",
        "\n"
      ],
      "metadata": {
        "id": "gVCWS80S8B8T"
      }
    },
    {
      "cell_type": "code",
      "source": [
        "randint_arr = np.random.randint(2,20,10)\n",
        "print(randint_arr)"
      ],
      "metadata": {
        "colab": {
          "base_uri": "https://localhost:8080/",
          "height": 0
        },
        "id": "oYv5hDH_7u3C",
        "outputId": "06724287-40f3-4f44-bb64-29190be42e85"
      },
      "execution_count": 18,
      "outputs": [
        {
          "output_type": "stream",
          "name": "stdout",
          "text": [
            "[ 9 14 19  4 10 16  4  7  6  9]\n"
          ]
        }
      ]
    },
    {
      "cell_type": "markdown",
      "source": [
        "# **Checking the Datatype**\n",
        "\n",
        "---\n",
        "\n"
      ],
      "metadata": {
        "id": "HYeJxjgTXDvq"
      }
    },
    {
      "cell_type": "code",
      "source": [
        "arr_int = np.array([1,2,3,4])\n",
        "print(arr_int.dtype)"
      ],
      "metadata": {
        "id": "QCiA9cPn8Pgt",
        "colab": {
          "base_uri": "https://localhost:8080/",
          "height": 0
        },
        "outputId": "b9c895d0-8f76-40e2-bc94-32b0be0eb891"
      },
      "execution_count": 19,
      "outputs": [
        {
          "output_type": "stream",
          "name": "stdout",
          "text": [
            "int64\n"
          ]
        }
      ]
    },
    {
      "cell_type": "markdown",
      "source": [
        "## **Array with defined datatype**"
      ],
      "metadata": {
        "id": "2EItJgzGXqtq"
      }
    },
    {
      "cell_type": "code",
      "source": [
        "arr_S = np.array([1,2,3,4],dtype = \"S\")\n",
        "print(arr_S.dtype)"
      ],
      "metadata": {
        "colab": {
          "base_uri": "https://localhost:8080/",
          "height": 0
        },
        "id": "9Yomrr4VXcHI",
        "outputId": "d90ea997-3f93-43c7-eafe-520a1e5094fa"
      },
      "execution_count": 20,
      "outputs": [
        {
          "output_type": "stream",
          "name": "stdout",
          "text": [
            "|S1\n"
          ]
        }
      ]
    },
    {
      "cell_type": "markdown",
      "source": [
        "## **String Datatype**"
      ],
      "metadata": {
        "id": "0S8RwyvZY2NI"
      }
    },
    {
      "cell_type": "code",
      "source": [
        "arr_st = np.array([\"S\",\"H\",\"A\",\"Y\",\"A\",\"N\"])\n",
        "print(arr_st.dtype)"
      ],
      "metadata": {
        "colab": {
          "base_uri": "https://localhost:8080/",
          "height": 0
        },
        "id": "6lyH40zTYunQ",
        "outputId": "6033a5d8-4b18-4987-9ac7-d100a7e7e440"
      },
      "execution_count": 21,
      "outputs": [
        {
          "output_type": "stream",
          "name": "stdout",
          "text": [
            "<U1\n"
          ]
        }
      ]
    },
    {
      "cell_type": "markdown",
      "source": [
        "# **Changing the Datatype**\n",
        "\n",
        "---\n",
        "\n"
      ],
      "metadata": {
        "id": "fu5-kFgeaF4B"
      }
    },
    {
      "cell_type": "code",
      "source": [
        "arr4 = np.array([1,2,3,4], dtype = np.int8)\n",
        "print(arr4.dtype)\n",
        "\n",
        "arr5 = np.array([1,2,3,4], dtype = \"f\")\n",
        "print(arr5.dtype)"
      ],
      "metadata": {
        "colab": {
          "base_uri": "https://localhost:8080/",
          "height": 0
        },
        "id": "Rx_slWWZZCBG",
        "outputId": "0129737e-67f2-4ced-f938-c7a52d7e6ba7"
      },
      "execution_count": 22,
      "outputs": [
        {
          "output_type": "stream",
          "name": "stdout",
          "text": [
            "int8\n",
            "float32\n"
          ]
        }
      ]
    },
    {
      "cell_type": "markdown",
      "source": [
        "## **Changing with astype function**"
      ],
      "metadata": {
        "id": "34TB3TSmMD3i"
      }
    },
    {
      "cell_type": "code",
      "source": [
        "arr6 = np.array([1,2,3,4])\n",
        "new = arr6.astype(float)\n",
        "print(arr6)\n",
        "print(new)\n",
        "print(new.dtype)"
      ],
      "metadata": {
        "colab": {
          "base_uri": "https://localhost:8080/",
          "height": 0
        },
        "id": "39YcreObaQfV",
        "outputId": "ea7fd595-c247-487c-dfb6-3a1b328208bd"
      },
      "execution_count": 23,
      "outputs": [
        {
          "output_type": "stream",
          "name": "stdout",
          "text": [
            "[1 2 3 4]\n",
            "[1. 2. 3. 4.]\n",
            "float64\n"
          ]
        }
      ]
    },
    {
      "cell_type": "markdown",
      "source": [
        "# ***Arithmetic Operations in Numpy Arrays***\n",
        "\n",
        "---\n",
        "\n"
      ],
      "metadata": {
        "id": "VvnjJ2B5NDBR"
      }
    },
    {
      "cell_type": "markdown",
      "source": [
        "## **Addition**"
      ],
      "metadata": {
        "id": "-31X5t1HNRo5"
      }
    },
    {
      "cell_type": "code",
      "source": [
        "var1 = np.array([1,2,3,4])\n",
        "var2 = np.array([5,6,7,8])\n",
        "print(var1+var2)"
      ],
      "metadata": {
        "colab": {
          "base_uri": "https://localhost:8080/",
          "height": 0
        },
        "id": "-TCL9k8kMUlW",
        "outputId": "9cb5df14-df83-4e5a-832c-7dd8cf98426c"
      },
      "execution_count": 24,
      "outputs": [
        {
          "output_type": "stream",
          "name": "stdout",
          "text": [
            "[ 6  8 10 12]\n"
          ]
        }
      ]
    },
    {
      "cell_type": "code",
      "source": [
        "print(var1+2)"
      ],
      "metadata": {
        "colab": {
          "base_uri": "https://localhost:8080/",
          "height": 0
        },
        "id": "RbmiS6NcNZ0M",
        "outputId": "91bb9594-f3b9-49d3-8296-d54e7ad3a033"
      },
      "execution_count": 25,
      "outputs": [
        {
          "output_type": "stream",
          "name": "stdout",
          "text": [
            "[3 4 5 6]\n"
          ]
        }
      ]
    },
    {
      "cell_type": "code",
      "source": [
        "print(var2+5)"
      ],
      "metadata": {
        "colab": {
          "base_uri": "https://localhost:8080/",
          "height": 0
        },
        "id": "KTzGgAxANjsf",
        "outputId": "1206b92d-4246-4b78-ad07-b1cea8521275"
      },
      "execution_count": 26,
      "outputs": [
        {
          "output_type": "stream",
          "name": "stdout",
          "text": [
            "[10 11 12 13]\n"
          ]
        }
      ]
    },
    {
      "cell_type": "markdown",
      "source": [
        "## **Subtraction**"
      ],
      "metadata": {
        "id": "5GG8xzGDNoZ4"
      }
    },
    {
      "cell_type": "code",
      "source": [
        "print(var2-var1)"
      ],
      "metadata": {
        "colab": {
          "base_uri": "https://localhost:8080/",
          "height": 0
        },
        "id": "9z4Iu_ZSNlcm",
        "outputId": "4a905061-eefa-4cad-880c-c4eb79ef227c"
      },
      "execution_count": 27,
      "outputs": [
        {
          "output_type": "stream",
          "name": "stdout",
          "text": [
            "[4 4 4 4]\n"
          ]
        }
      ]
    },
    {
      "cell_type": "code",
      "source": [
        "print(var2-1)"
      ],
      "metadata": {
        "colab": {
          "base_uri": "https://localhost:8080/",
          "height": 0
        },
        "id": "vAM_UpIJNv5f",
        "outputId": "35c6c18e-ce27-4962-e27b-62a2835e8a57"
      },
      "execution_count": 28,
      "outputs": [
        {
          "output_type": "stream",
          "name": "stdout",
          "text": [
            "[4 5 6 7]\n"
          ]
        }
      ]
    },
    {
      "cell_type": "markdown",
      "source": [
        "## **Multiplication**"
      ],
      "metadata": {
        "id": "dBiD8r2LOJ0o"
      }
    },
    {
      "cell_type": "code",
      "source": [
        "print(var1*var2)"
      ],
      "metadata": {
        "colab": {
          "base_uri": "https://localhost:8080/",
          "height": 0
        },
        "id": "TE-EtWy7N2HE",
        "outputId": "35daf172-f1b6-41f9-8469-492387a897a1"
      },
      "execution_count": 29,
      "outputs": [
        {
          "output_type": "stream",
          "name": "stdout",
          "text": [
            "[ 5 12 21 32]\n"
          ]
        }
      ]
    },
    {
      "cell_type": "markdown",
      "source": [
        "## **Division**"
      ],
      "metadata": {
        "id": "-sVYCZtqOTJo"
      }
    },
    {
      "cell_type": "code",
      "source": [
        "print(var2/2)"
      ],
      "metadata": {
        "colab": {
          "base_uri": "https://localhost:8080/",
          "height": 0
        },
        "id": "shek25I_ORei",
        "outputId": "af6dbb0b-39c0-4595-dec6-bf8007c74598"
      },
      "execution_count": 30,
      "outputs": [
        {
          "output_type": "stream",
          "name": "stdout",
          "text": [
            "[2.5 3.  3.5 4. ]\n"
          ]
        }
      ]
    },
    {
      "cell_type": "markdown",
      "source": [
        "## **Modulus**"
      ],
      "metadata": {
        "id": "LZK1XS_IOYsS"
      }
    },
    {
      "cell_type": "code",
      "source": [
        "print(var1 % var2)"
      ],
      "metadata": {
        "colab": {
          "base_uri": "https://localhost:8080/",
          "height": 0
        },
        "id": "I2Uq8PUcOWgR",
        "outputId": "d3fd095f-01ef-4ed2-f1bb-6ec037abaef1"
      },
      "execution_count": 31,
      "outputs": [
        {
          "output_type": "stream",
          "name": "stdout",
          "text": [
            "[1 2 3 4]\n"
          ]
        }
      ]
    },
    {
      "cell_type": "markdown",
      "source": [
        "## **Power**"
      ],
      "metadata": {
        "id": "R3i5UNQ1OmkQ"
      }
    },
    {
      "cell_type": "code",
      "source": [
        "print(var1 ** var2)"
      ],
      "metadata": {
        "colab": {
          "base_uri": "https://localhost:8080/",
          "height": 0
        },
        "id": "aLyp1v_JOe3N",
        "outputId": "96464061-af76-4777-cba1-448c1952ef81"
      },
      "execution_count": 32,
      "outputs": [
        {
          "output_type": "stream",
          "name": "stdout",
          "text": [
            "[    1    64  2187 65536]\n"
          ]
        }
      ]
    },
    {
      "cell_type": "markdown",
      "source": [
        "# **Operations using functions**\n",
        "\n",
        "---\n",
        "\n"
      ],
      "metadata": {
        "id": "4qC_WuTXPNsh"
      }
    },
    {
      "cell_type": "code",
      "source": [
        "var1 = np.array([1,2,3,4])\n",
        "var2 = np.array([5,6,7,8])\n",
        "add = np.add(var1,var2)\n",
        "print(add)"
      ],
      "metadata": {
        "colab": {
          "base_uri": "https://localhost:8080/",
          "height": 0
        },
        "id": "a4jpK6EEOrj0",
        "outputId": "a9d0b562-02a7-4639-8ac5-3c897e444f87"
      },
      "execution_count": 33,
      "outputs": [
        {
          "output_type": "stream",
          "name": "stdout",
          "text": [
            "[ 6  8 10 12]\n"
          ]
        }
      ]
    },
    {
      "cell_type": "code",
      "source": [
        "sub  = np.subtract(var2,var1)\n",
        "print(sub)"
      ],
      "metadata": {
        "colab": {
          "base_uri": "https://localhost:8080/",
          "height": 0
        },
        "id": "se8sYObzQ_G_",
        "outputId": "942dd142-ec9e-4b59-e976-5d70f5c0e867"
      },
      "execution_count": 34,
      "outputs": [
        {
          "output_type": "stream",
          "name": "stdout",
          "text": [
            "[4 4 4 4]\n"
          ]
        }
      ]
    },
    {
      "cell_type": "code",
      "source": [
        "mul = np.multiply(var1,var2)\n",
        "print(mul)"
      ],
      "metadata": {
        "colab": {
          "base_uri": "https://localhost:8080/",
          "height": 0
        },
        "id": "WDeGOGRuRH7x",
        "outputId": "bd848df6-153c-497e-f4fc-ca795b7852e0"
      },
      "execution_count": 35,
      "outputs": [
        {
          "output_type": "stream",
          "name": "stdout",
          "text": [
            "[ 5 12 21 32]\n"
          ]
        }
      ]
    },
    {
      "cell_type": "code",
      "source": [
        "div = np.divide(var2,var1)\n",
        "print(div)"
      ],
      "metadata": {
        "colab": {
          "base_uri": "https://localhost:8080/",
          "height": 0
        },
        "id": "ZBwb4lxFRRQC",
        "outputId": "a593ff4b-2cf0-4a00-ab45-0e15806c4465"
      },
      "execution_count": 36,
      "outputs": [
        {
          "output_type": "stream",
          "name": "stdout",
          "text": [
            "[5.         3.         2.33333333 2.        ]\n"
          ]
        }
      ]
    },
    {
      "cell_type": "code",
      "source": [
        "mod = np.mod(var1,var2)\n",
        "print(mod)"
      ],
      "metadata": {
        "colab": {
          "base_uri": "https://localhost:8080/",
          "height": 0
        },
        "id": "HWHbT21aRY2J",
        "outputId": "8f5414a4-b834-45bb-a35f-682885fcb753"
      },
      "execution_count": 37,
      "outputs": [
        {
          "output_type": "stream",
          "name": "stdout",
          "text": [
            "[1 2 3 4]\n"
          ]
        }
      ]
    },
    {
      "cell_type": "code",
      "source": [
        "pow = np.power(var1,var2)\n",
        "print(pow)"
      ],
      "metadata": {
        "colab": {
          "base_uri": "https://localhost:8080/",
          "height": 0
        },
        "id": "mQ1TSD1MRfNn",
        "outputId": "92fecf8f-8755-43b2-85fb-4c4135976d1a"
      },
      "execution_count": 38,
      "outputs": [
        {
          "output_type": "stream",
          "name": "stdout",
          "text": [
            "[    1    64  2187 65536]\n"
          ]
        }
      ]
    },
    {
      "cell_type": "markdown",
      "source": [
        "# ***Arithmetic Functions***\n",
        "\n",
        "---\n",
        "\n"
      ],
      "metadata": {
        "id": "GMOR0SayRss5"
      }
    },
    {
      "cell_type": "markdown",
      "source": [
        "## **Min/Max**"
      ],
      "metadata": {
        "id": "v6Z2eKO1SA0p"
      }
    },
    {
      "cell_type": "code",
      "source": [
        "var = np.array([1,2,4,9,5,6,8,7])\n",
        "print(\"Minimum\",np.min(var))\n",
        "print(\"Maximum\",np.max(var))"
      ],
      "metadata": {
        "colab": {
          "base_uri": "https://localhost:8080/",
          "height": 0
        },
        "id": "W5-sdMqBRj7i",
        "outputId": "46710b00-18f0-4daf-a37b-bbc6be12ce95"
      },
      "execution_count": 39,
      "outputs": [
        {
          "output_type": "stream",
          "name": "stdout",
          "text": [
            "Minimum 1\n",
            "Maximum 9\n"
          ]
        }
      ]
    },
    {
      "cell_type": "markdown",
      "source": [
        "## **np.argmin / np.argmax**\n",
        "\n",
        "> index of min / max\n",
        "\n"
      ],
      "metadata": {
        "id": "djCtT_cATAeC"
      }
    },
    {
      "cell_type": "code",
      "source": [
        "var = np.array([1,2,4,9,5,6,8,7])\n",
        "print(\"Minimum\",np.min(var),\"at Index\",np.argmin(var))\n",
        "print(\"Maximum\",np.max(var),\"at Index\",np.argmax(var))"
      ],
      "metadata": {
        "colab": {
          "base_uri": "https://localhost:8080/",
          "height": 0
        },
        "id": "M-EIdaE4S-qR",
        "outputId": "d6b29e31-f087-4c92-db65-d532449de4f6"
      },
      "execution_count": 40,
      "outputs": [
        {
          "output_type": "stream",
          "name": "stdout",
          "text": [
            "Minimum 1 at Index 0\n",
            "Maximum 9 at Index 3\n"
          ]
        }
      ]
    },
    {
      "cell_type": "markdown",
      "source": [
        "## **Min / Max in 2D Array**"
      ],
      "metadata": {
        "id": "uvlwQWiKTgOY"
      }
    },
    {
      "cell_type": "code",
      "source": [
        "var2d = np.array([[1,2,3,4],[5,6,7,8]])\n",
        "print(\"axis 0 / Column\")\n",
        "print(\"Minimum\",np.min(var2d,axis = 0))\n",
        "print(\"Maximum\",np.max(var2d,axis = 0))\n",
        "\n",
        "print(\"Minimum\",np.min(var2d,axis = 1))\n",
        "print(\"Maximum\",np.max(var2d,axis = 1))"
      ],
      "metadata": {
        "colab": {
          "base_uri": "https://localhost:8080/",
          "height": 0
        },
        "id": "ha1gHObfTPUH",
        "outputId": "ca4c2e33-7548-44eb-d070-706a4e115979"
      },
      "execution_count": 41,
      "outputs": [
        {
          "output_type": "stream",
          "name": "stdout",
          "text": [
            "axis 0 / Column\n",
            "Minimum [1 2 3 4]\n",
            "Maximum [5 6 7 8]\n",
            "Minimum [1 5]\n",
            "Maximum [4 8]\n"
          ]
        }
      ]
    },
    {
      "cell_type": "markdown",
      "source": [
        "## **np.sqrt**"
      ],
      "metadata": {
        "id": "LnFlBPywVPlZ"
      }
    },
    {
      "cell_type": "code",
      "source": [
        "var = np.array([4,16,36])\n",
        "print(np.sqrt(var))"
      ],
      "metadata": {
        "colab": {
          "base_uri": "https://localhost:8080/",
          "height": 0
        },
        "id": "AJEnYoEHTzMD",
        "outputId": "ee91fbae-c595-4cfe-fec7-f76e3d3cffd8"
      },
      "execution_count": 42,
      "outputs": [
        {
          "output_type": "stream",
          "name": "stdout",
          "text": [
            "[2. 4. 6.]\n"
          ]
        }
      ]
    },
    {
      "cell_type": "markdown",
      "source": [
        "## **Sin(x)**"
      ],
      "metadata": {
        "id": "w30i5opzVnwZ"
      }
    },
    {
      "cell_type": "code",
      "source": [
        "print(np.sin(var))"
      ],
      "metadata": {
        "colab": {
          "base_uri": "https://localhost:8080/",
          "height": 0
        },
        "id": "zSXOv3bjVV1E",
        "outputId": "8ed9dec2-72ca-4435-9989-e344bf810bfc"
      },
      "execution_count": 43,
      "outputs": [
        {
          "output_type": "stream",
          "name": "stdout",
          "text": [
            "[-0.7568025  -0.28790332 -0.99177885]\n"
          ]
        }
      ]
    },
    {
      "cell_type": "markdown",
      "source": [
        "## **Cos(x)**"
      ],
      "metadata": {
        "id": "zJpyO_aNVr2Z"
      }
    },
    {
      "cell_type": "code",
      "source": [
        "print(np.cos(var))"
      ],
      "metadata": {
        "colab": {
          "base_uri": "https://localhost:8080/",
          "height": 0
        },
        "id": "lAFyIUnvVl2W",
        "outputId": "e1d675f1-29db-4609-f643-231462e748a9"
      },
      "execution_count": 44,
      "outputs": [
        {
          "output_type": "stream",
          "name": "stdout",
          "text": [
            "[-0.65364362 -0.95765948 -0.12796369]\n"
          ]
        }
      ]
    },
    {
      "cell_type": "markdown",
      "source": [
        "# ***Shape and Reshaping***\n",
        "\n",
        "---\n",
        "\n",
        "\n",
        "\n",
        "> answers in rows and columns like below is 2*4 array (2 rows and 4 columns)\n",
        "\n"
      ],
      "metadata": {
        "id": "3txF6SZoV0Tq"
      }
    },
    {
      "cell_type": "markdown",
      "source": [
        "## **Shape**"
      ],
      "metadata": {
        "id": "FJNBqHDgYIpA"
      }
    },
    {
      "cell_type": "code",
      "source": [
        "var = np.array([[1,2,3,4],[5,6,7,8]])\n",
        "print(var.shape)"
      ],
      "metadata": {
        "colab": {
          "base_uri": "https://localhost:8080/",
          "height": 0
        },
        "id": "OtoCZVfiVxkH",
        "outputId": "22265ec7-e64a-45a0-875e-f4deb18fdeca"
      },
      "execution_count": 45,
      "outputs": [
        {
          "output_type": "stream",
          "name": "stdout",
          "text": [
            "(2, 4)\n"
          ]
        }
      ]
    },
    {
      "cell_type": "code",
      "source": [
        "var = np.array([[1,2,3],[4,5,6],[7,8,9]])\n",
        "print(var.shape)"
      ],
      "metadata": {
        "colab": {
          "base_uri": "https://localhost:8080/",
          "height": 0
        },
        "id": "NJ-aPmsQXV-x",
        "outputId": "9c51ed74-5ce9-4be3-ac32-c367182e0faf"
      },
      "execution_count": 46,
      "outputs": [
        {
          "output_type": "stream",
          "name": "stdout",
          "text": [
            "(3, 3)\n"
          ]
        }
      ]
    },
    {
      "cell_type": "markdown",
      "source": [
        "## **Reshape**\n",
        "\n",
        "> var.reshape(3,3) iska mtlb hai ke jo bhi ham shape specify karenge, tu array us shape me divide hojaega\n",
        "\n"
      ],
      "metadata": {
        "id": "VYKMPRUWYLoI"
      }
    },
    {
      "cell_type": "code",
      "source": [
        "var = np.array([1,2,3,4,5,6,7,8,9])\n",
        "print(var.reshape(3,3))"
      ],
      "metadata": {
        "colab": {
          "base_uri": "https://localhost:8080/",
          "height": 0
        },
        "id": "0AkWlpXnYFQP",
        "outputId": "80631c00-e2f1-44c5-ca8d-d475096e026a"
      },
      "execution_count": 47,
      "outputs": [
        {
          "output_type": "stream",
          "name": "stdout",
          "text": [
            "[[1 2 3]\n",
            " [4 5 6]\n",
            " [7 8 9]]\n"
          ]
        }
      ]
    },
    {
      "cell_type": "markdown",
      "source": [
        "# ***Broadcasting in Numpy Arrays***\n",
        "\n",
        "\n",
        "---\n",
        "\n",
        "\n",
        "> 2 different shapes ke arrays par arithmetic operations perform karna\n",
        "\n",
        "Broadcasting Rules\n",
        "\n",
        "\n",
        "*   Same Dimension\n",
        "*   (1 x 3) . (3 x 1) ye bhi hojaega\n",
        "\n"
      ],
      "metadata": {
        "id": "Jm4IJpKiZYl3"
      }
    },
    {
      "cell_type": "code",
      "source": [
        "var1 = np.array(([1,2,3]))\n",
        "var2 = np.array([[1],[2],[3]])\n",
        "\n",
        "print(var1.shape)\n",
        "print(var2.shape)\n",
        "\n",
        "print(var1 + var2)"
      ],
      "metadata": {
        "colab": {
          "base_uri": "https://localhost:8080/",
          "height": 0
        },
        "id": "QqOL9rynYUmJ",
        "outputId": "a984bafb-3381-4e1a-9d04-abc6210ac980"
      },
      "execution_count": 48,
      "outputs": [
        {
          "output_type": "stream",
          "name": "stdout",
          "text": [
            "(3,)\n",
            "(3, 1)\n",
            "[[2 3 4]\n",
            " [3 4 5]\n",
            " [4 5 6]]\n"
          ]
        }
      ]
    },
    {
      "cell_type": "code",
      "source": [
        "var1 = np.array([[1],[2]])\n",
        "var2 = np.array([[1,2,3],[1,2,3]])\n",
        "\n",
        "print(var1+var2)"
      ],
      "metadata": {
        "colab": {
          "base_uri": "https://localhost:8080/",
          "height": 0
        },
        "id": "B-Ulzo1tbf5i",
        "outputId": "a5a6d6b4-5c1f-4d51-bf4e-7639f2dc5e4b"
      },
      "execution_count": 49,
      "outputs": [
        {
          "output_type": "stream",
          "name": "stdout",
          "text": [
            "[[2 3 4]\n",
            " [3 4 5]]\n"
          ]
        }
      ]
    },
    {
      "cell_type": "markdown",
      "source": [
        "# ***Indexing***\n",
        "\n",
        "---\n",
        "\n"
      ],
      "metadata": {
        "id": "LQRqSEDmdOTm"
      }
    },
    {
      "cell_type": "markdown",
      "source": [
        "## **1D Array**"
      ],
      "metadata": {
        "id": "Y0fGGx_tdTxY"
      }
    },
    {
      "cell_type": "code",
      "source": [
        "var = np.array([1,2,3,4,5,6,7,8,9])\n",
        "for i in range(0, len(var)):\n",
        "  print(\"Index :\",i,\"element :\",var[i])"
      ],
      "metadata": {
        "colab": {
          "base_uri": "https://localhost:8080/",
          "height": 0
        },
        "id": "uK0-ggBwcTIn",
        "outputId": "35e29bbc-f480-426f-fbe8-91535fd0b225"
      },
      "execution_count": 50,
      "outputs": [
        {
          "output_type": "stream",
          "name": "stdout",
          "text": [
            "Index : 0 element : 1\n",
            "Index : 1 element : 2\n",
            "Index : 2 element : 3\n",
            "Index : 3 element : 4\n",
            "Index : 4 element : 5\n",
            "Index : 5 element : 6\n",
            "Index : 6 element : 7\n",
            "Index : 7 element : 8\n",
            "Index : 8 element : 9\n"
          ]
        }
      ]
    },
    {
      "cell_type": "markdown",
      "source": [
        "## **2D Array**\n",
        "\n",
        "```\n",
        "[[1 2 3]\n",
        " [4 5 6]]\n",
        "\n",
        " in this first array is index 0, 2nd index 1 and inside both starting from 0 to onwards\n",
        "```\n",
        "\n"
      ],
      "metadata": {
        "id": "rjknQZhyeP0P"
      }
    },
    {
      "cell_type": "code",
      "source": [
        "var = np.array([[1,2,3],[4,5,6]])\n",
        "print(var[1,2])"
      ],
      "metadata": {
        "colab": {
          "base_uri": "https://localhost:8080/",
          "height": 0
        },
        "id": "x_edlWFiddDJ",
        "outputId": "8a18b986-6178-42ae-82ef-13993e678e7c"
      },
      "execution_count": 51,
      "outputs": [
        {
          "output_type": "stream",
          "name": "stdout",
          "text": [
            "6\n"
          ]
        }
      ]
    },
    {
      "cell_type": "markdown",
      "source": [
        "## **3D Array**\n",
        "\n",
        "\n",
        "*   First number → block (depth) index\n",
        "*   Second number → row index in that block\n",
        "*   Third number → column index in that row"
      ],
      "metadata": {
        "id": "0VPAGz3WfK6m"
      }
    },
    {
      "cell_type": "code",
      "source": [
        "var = np.array([[[1,2],[3,4]]])\n",
        "print(var[0,1,1])"
      ],
      "metadata": {
        "id": "aMzzedY8elKy",
        "colab": {
          "base_uri": "https://localhost:8080/",
          "height": 0
        },
        "outputId": "ea2eff4f-d1e5-4a01-bb8c-d1f25577faa3"
      },
      "execution_count": 52,
      "outputs": [
        {
          "output_type": "stream",
          "name": "stdout",
          "text": [
            "4\n"
          ]
        }
      ]
    },
    {
      "cell_type": "markdown",
      "source": [
        "# **Slicing**\n",
        "\n",
        "---\n",
        "\n"
      ],
      "metadata": {
        "id": "zzcoB5jgFXjW"
      }
    },
    {
      "cell_type": "markdown",
      "source": [
        "## **1D Array**\n",
        "\n",
        "\n",
        "*   start → slice ka starting index (inclusive)\n",
        "*   stop → slice ka ending index (exclusive)\n",
        "*   step → kitne index skip karke agla element lena hai\n",
        "\n",
        "\n",
        "\n"
      ],
      "metadata": {
        "id": "inoybeJlFa-t"
      }
    },
    {
      "cell_type": "code",
      "source": [
        "var = np.array([1,2,3,4,5,6,7,8,9])\n",
        "print(var[1:5:1])"
      ],
      "metadata": {
        "colab": {
          "base_uri": "https://localhost:8080/",
          "height": 0
        },
        "id": "YEwuj8evFLc8",
        "outputId": "a53b66ff-a736-4305-92b7-8d372c39d666"
      },
      "execution_count": 53,
      "outputs": [
        {
          "output_type": "stream",
          "name": "stdout",
          "text": [
            "[2 3 4 5]\n"
          ]
        }
      ]
    },
    {
      "cell_type": "markdown",
      "source": [
        "## **2D Array**\n",
        "\n",
        "*   0 → row index (yani sirf row 0 lo)\n",
        "*   2:3:1 → columns ka slice (start=2, stop=3, step=1)\n",
        "\n"
      ],
      "metadata": {
        "id": "FRfebhA2GIpW"
      }
    },
    {
      "cell_type": "code",
      "source": [
        "var = np.array([[1,2,3],[4,5,6]])\n",
        "print(var[0,0:3:1])"
      ],
      "metadata": {
        "colab": {
          "base_uri": "https://localhost:8080/",
          "height": 0
        },
        "id": "q942I0HDFx_V",
        "outputId": "436ca69b-9888-4d3d-f123-e30e86e12456"
      },
      "execution_count": 54,
      "outputs": [
        {
          "output_type": "stream",
          "name": "stdout",
          "text": [
            "[1 2 3]\n"
          ]
        }
      ]
    },
    {
      "cell_type": "markdown",
      "source": [
        "## **3D Array**"
      ],
      "metadata": {
        "id": "eEkAVGAdIkBN"
      }
    },
    {
      "cell_type": "code",
      "source": [
        "var = np.array([[[1,2,3],[4,5,6],[7,8,9]]])\n",
        "print(var[0,0,0:3])"
      ],
      "metadata": {
        "colab": {
          "base_uri": "https://localhost:8080/",
          "height": 0
        },
        "id": "QJP0yFJmIeAJ",
        "outputId": "d20caf76-ffc5-48ec-85d5-5a3d92932045"
      },
      "execution_count": 55,
      "outputs": [
        {
          "output_type": "stream",
          "name": "stdout",
          "text": [
            "[1 2 3]\n"
          ]
        }
      ]
    },
    {
      "cell_type": "markdown",
      "source": [
        "# ***Numpy Iteration***\n",
        "\n",
        "---\n",
        "\n"
      ],
      "metadata": {
        "id": "LXk4Lbm9I-VV"
      }
    },
    {
      "cell_type": "markdown",
      "source": [
        "## **1D Array**"
      ],
      "metadata": {
        "id": "R7-KU6uCJZlM"
      }
    },
    {
      "cell_type": "code",
      "source": [
        "var = np.array([1,2,3,4,5])\n",
        "for i in var:\n",
        "  print(i)"
      ],
      "metadata": {
        "colab": {
          "base_uri": "https://localhost:8080/",
          "height": 0
        },
        "id": "YWpgGlrpIxaa",
        "outputId": "aaea25a6-6f59-4be2-dbf5-4987e329cf34"
      },
      "execution_count": 56,
      "outputs": [
        {
          "output_type": "stream",
          "name": "stdout",
          "text": [
            "1\n",
            "2\n",
            "3\n",
            "4\n",
            "5\n"
          ]
        }
      ]
    },
    {
      "cell_type": "markdown",
      "source": [
        "## **2D Array**"
      ],
      "metadata": {
        "id": "wJSBoeMrKHfl"
      }
    },
    {
      "cell_type": "code",
      "source": [
        "var = np.array([[1,2,3,4],[5,6,7,8]])\n",
        "for i in var:\n",
        "  print(i)\n",
        "\n",
        "for j in var:\n",
        "  for k in j:\n",
        "    print(k)"
      ],
      "metadata": {
        "colab": {
          "base_uri": "https://localhost:8080/",
          "height": 0
        },
        "id": "GSTAj1VcKBGg",
        "outputId": "529c25fa-50dd-4bec-9603-d810ab2397d3"
      },
      "execution_count": 57,
      "outputs": [
        {
          "output_type": "stream",
          "name": "stdout",
          "text": [
            "[1 2 3 4]\n",
            "[5 6 7 8]\n",
            "1\n",
            "2\n",
            "3\n",
            "4\n",
            "5\n",
            "6\n",
            "7\n",
            "8\n"
          ]
        }
      ]
    },
    {
      "cell_type": "markdown",
      "source": [
        "## **3D Array**"
      ],
      "metadata": {
        "id": "X4L4YtYoNXD1"
      }
    },
    {
      "cell_type": "code",
      "source": [
        "var = np.array([[[1,2,3],[4,5,6],[7,8,9]]])\n",
        "for i in var:\n",
        "  for j in i:\n",
        "    for k in j:\n",
        "      print(k)"
      ],
      "metadata": {
        "colab": {
          "base_uri": "https://localhost:8080/",
          "height": 0
        },
        "id": "XT0S6E5jNAE7",
        "outputId": "a7553774-c951-49ef-84ca-6f8c4ca891ef"
      },
      "execution_count": 58,
      "outputs": [
        {
          "output_type": "stream",
          "name": "stdout",
          "text": [
            "1\n",
            "2\n",
            "3\n",
            "4\n",
            "5\n",
            "6\n",
            "7\n",
            "8\n",
            "9\n"
          ]
        }
      ]
    },
    {
      "cell_type": "markdown",
      "source": [
        "# ***Iterate Using Function***\n",
        "\n",
        "---\n",
        "\n",
        "asaan tariqa hai, nested loops nhi lagane parenge\n",
        "\n",
        "*   np.nditer()\n",
        "*   np.udenumerate()   (index ke sath dega)\n",
        "\n"
      ],
      "metadata": {
        "id": "yBLY1KkaNqgs"
      }
    },
    {
      "cell_type": "code",
      "source": [
        "var = np.array([[[1,2,3],[4,5,6],[7,8,9]]])\n",
        "for i in np.nditer(var):\n",
        "  print(i)"
      ],
      "metadata": {
        "colab": {
          "base_uri": "https://localhost:8080/",
          "height": 0
        },
        "id": "qYx-Y6N5NnjY",
        "outputId": "d73bd0d5-07ea-4e37-895c-576dd11022aa"
      },
      "execution_count": 59,
      "outputs": [
        {
          "output_type": "stream",
          "name": "stdout",
          "text": [
            "1\n",
            "2\n",
            "3\n",
            "4\n",
            "5\n",
            "6\n",
            "7\n",
            "8\n",
            "9\n"
          ]
        }
      ]
    },
    {
      "cell_type": "code",
      "source": [
        "var = np.array([[[1,2,3],[4,5,6],[7,8,9]]])\n",
        "for i, d in np.ndenumerate(var):\n",
        "  print(i, d)"
      ],
      "metadata": {
        "colab": {
          "base_uri": "https://localhost:8080/",
          "height": 0
        },
        "id": "b9WIuaiSOKAW",
        "outputId": "93239dbc-68f7-411f-eaba-b8f8ea8c7229"
      },
      "execution_count": 60,
      "outputs": [
        {
          "output_type": "stream",
          "name": "stdout",
          "text": [
            "(0, 0, 0) 1\n",
            "(0, 0, 1) 2\n",
            "(0, 0, 2) 3\n",
            "(0, 1, 0) 4\n",
            "(0, 1, 1) 5\n",
            "(0, 1, 2) 6\n",
            "(0, 2, 0) 7\n",
            "(0, 2, 1) 8\n",
            "(0, 2, 2) 9\n"
          ]
        }
      ]
    },
    {
      "cell_type": "markdown",
      "source": [
        "# **Copy vs View**\n",
        "\n",
        "---\n",
        "\n"
      ],
      "metadata": {
        "id": "1UOWAXJQnXr2"
      }
    },
    {
      "cell_type": "markdown",
      "source": [
        "# **Copy**"
      ],
      "metadata": {
        "id": "EQdbgu7Mndte"
      }
    },
    {
      "cell_type": "code",
      "source": [
        "var = np.array([1,2,3,4])\n",
        "copy = var.copy()\n",
        "print(\"Original :\",var)\n",
        "print(\"Copy :\",copy)"
      ],
      "metadata": {
        "id": "ZaUkkB3EOip4",
        "colab": {
          "base_uri": "https://localhost:8080/",
          "height": 0
        },
        "outputId": "65b3159c-16e0-4360-c666-853c54d5ef2e"
      },
      "execution_count": 65,
      "outputs": [
        {
          "output_type": "stream",
          "name": "stdout",
          "text": [
            "Original : [1 2 3 4]\n",
            "Copy : [1 2 3 4]\n"
          ]
        }
      ]
    },
    {
      "cell_type": "markdown",
      "source": [
        "# **View**"
      ],
      "metadata": {
        "id": "-B26UgKry7Pk"
      }
    },
    {
      "cell_type": "code",
      "source": [
        "var = np.array([1,2,3,4])\n",
        "view = var.view()\n",
        "print(\"Original :\",var)\n",
        "print(\"View :\",view)"
      ],
      "metadata": {
        "colab": {
          "base_uri": "https://localhost:8080/",
          "height": 0
        },
        "id": "hNb2SDozx7z1",
        "outputId": "8eb9b8f5-5b5a-473f-978d-2def171835d7"
      },
      "execution_count": 67,
      "outputs": [
        {
          "output_type": "stream",
          "name": "stdout",
          "text": [
            "Original : [1 2 3 4]\n",
            "Copy : [1 2 3 4]\n"
          ]
        }
      ]
    },
    {
      "cell_type": "markdown",
      "source": [
        "# **Difference between Copy and View**\n",
        "\n",
        "\n",
        "\n",
        "\n",
        "### **Copy**\n",
        "\n",
        "> Original me kuch changes karenge tu copy me kuch change nhi hoga\n",
        "### **View**\n",
        "> Original me changes karenge tu view wali copy me bhi update hojaegi\n",
        "\n",
        "\n",
        "\n"
      ],
      "metadata": {
        "id": "t6dpyD3czKN8"
      }
    },
    {
      "cell_type": "markdown",
      "source": [
        "### **Copy**"
      ],
      "metadata": {
        "id": "TAHhcmQD2DCN"
      }
    },
    {
      "cell_type": "code",
      "source": [
        "var = np.array([1,2,3,4])\n",
        "copy = var.copy()\n",
        "\n",
        "var[1] = 100\n",
        "print(\"Original after change:\",var)\n",
        "print(\"Copy after change:\",copy)"
      ],
      "metadata": {
        "colab": {
          "base_uri": "https://localhost:8080/",
          "height": 0
        },
        "id": "D0dXZBDBzAZZ",
        "outputId": "7d14863c-6df4-485d-ecc4-7f4506969b83"
      },
      "execution_count": 70,
      "outputs": [
        {
          "output_type": "stream",
          "name": "stdout",
          "text": [
            "Original after change: [  1 100   3   4]\n",
            "Copy after change: [1 2 3 4]\n"
          ]
        }
      ]
    },
    {
      "cell_type": "markdown",
      "source": [
        "### **View**"
      ],
      "metadata": {
        "id": "bRaTvdpp2GJN"
      }
    },
    {
      "cell_type": "code",
      "source": [
        "var = np.array([1,2,3,4])\n",
        "view = var.view()\n",
        "\n",
        "var[1] = 100\n",
        "print(\"Original after change:\",var)\n",
        "print(\"View after change:\",view)"
      ],
      "metadata": {
        "colab": {
          "base_uri": "https://localhost:8080/",
          "height": 0
        },
        "id": "K5my0snK1joj",
        "outputId": "37804cdb-a95e-4fdc-9acc-05f3beeba110"
      },
      "execution_count": 71,
      "outputs": [
        {
          "output_type": "stream",
          "name": "stdout",
          "text": [
            "Original after change: [  1 100   3   4]\n",
            "View after change: [  1 100   3   4]\n"
          ]
        }
      ]
    },
    {
      "cell_type": "markdown",
      "source": [
        "# **Join and Split Array**\n",
        "\n",
        "---\n",
        "\n"
      ],
      "metadata": {
        "id": "k0LcUkRh3jIe"
      }
    },
    {
      "cell_type": "markdown",
      "source": [
        "# **Join Array**\n",
        "\n",
        "\n",
        "\n",
        "> Concatenate\n",
        "\n",
        "---\n",
        "\n",
        "\n",
        "\n"
      ],
      "metadata": {
        "id": "tmpliV6L3qt1"
      }
    },
    {
      "cell_type": "markdown",
      "source": [
        "## **1D Array**"
      ],
      "metadata": {
        "id": "8WwGV5qS4AwM"
      }
    },
    {
      "cell_type": "code",
      "source": [
        "var1 = np.array([1,2,3,4])\n",
        "var2 = np.array([5,6,7,8])\n",
        "\n",
        "new_arr = np.concatenate((var1,var2))\n",
        "print(new_arr)"
      ],
      "metadata": {
        "colab": {
          "base_uri": "https://localhost:8080/",
          "height": 0
        },
        "id": "cSz1flUr2LR7",
        "outputId": "0bdbd3a0-bc20-4812-8dfb-c061954af982"
      },
      "execution_count": 74,
      "outputs": [
        {
          "output_type": "stream",
          "name": "stdout",
          "text": [
            "[1 2 3 4 5 6 7 8]\n"
          ]
        }
      ]
    },
    {
      "cell_type": "markdown",
      "source": [
        "## **2D Array**"
      ],
      "metadata": {
        "id": "xu14uTj24ztl"
      }
    },
    {
      "cell_type": "code",
      "source": [
        "var1 = np.array([[1,2],[3,4]])\n",
        "var2 = np.array([[5,6],[7,8]])\n",
        "\n",
        "new_arr1 = np.concatenate((var1,var2),axis = 0)\n",
        "new_arr2 = np.concatenate((var1,var2),axis = 1)\n",
        "print(\"Concantenate w.r.t axis 0 :\\n\",new_arr1)\n",
        "print(\"\\nConcantenate w.r.t axis 1 : \\n\",new_arr2)"
      ],
      "metadata": {
        "colab": {
          "base_uri": "https://localhost:8080/",
          "height": 0
        },
        "id": "GV2OF-X54RHk",
        "outputId": "d6f99760-b19a-445a-8133-9fcb6c3a275b"
      },
      "execution_count": 81,
      "outputs": [
        {
          "output_type": "stream",
          "name": "stdout",
          "text": [
            "Concantenate w.r.t axis 0 :\n",
            " [[1 2]\n",
            " [3 4]\n",
            " [5 6]\n",
            " [7 8]]\n",
            "\n",
            "Concantenate w.r.t axis 1 : \n",
            " [[1 2 5 6]\n",
            " [3 4 7 8]]\n"
          ]
        }
      ]
    },
    {
      "cell_type": "markdown",
      "source": [
        "# **Split Array**\n",
        "\n",
        "\n",
        "\n",
        "> break one array into multiple\n",
        "\n"
      ],
      "metadata": {
        "id": "Tu-pyF9P7CZd"
      }
    },
    {
      "cell_type": "markdown",
      "source": [
        "## **1D Array**"
      ],
      "metadata": {
        "id": "jCwWe0AU7qiN"
      }
    },
    {
      "cell_type": "code",
      "source": [
        "var1 = np.array([1,2,3,4,5,6])\n",
        "var_new = np.split(var1, 2)\n",
        "var_new1 = np.split(var1, 3)\n",
        "\n",
        "print(\"Split in 2 :\",var_new)\n",
        "print(\"Split in 3 :\",var_new1)"
      ],
      "metadata": {
        "colab": {
          "base_uri": "https://localhost:8080/",
          "height": 0
        },
        "id": "eqwz81ki64lH",
        "outputId": "23580cfc-d559-48cc-809a-e021a591d8c0"
      },
      "execution_count": 88,
      "outputs": [
        {
          "output_type": "stream",
          "name": "stdout",
          "text": [
            "Split in 2 : [array([1, 2, 3]), array([4, 5, 6])]\n",
            "Split in 3 : [array([1, 2]), array([3, 4]), array([5, 6])]\n"
          ]
        }
      ]
    },
    {
      "cell_type": "markdown",
      "source": [
        "## **2D Array**"
      ],
      "metadata": {
        "id": "QmDF35f37to1"
      }
    },
    {
      "cell_type": "code",
      "source": [
        "var1 = np.array([[1,2],[3,4],[5,6]])\n",
        "\n",
        "var_new = np.split(var1,3)\n",
        "print(var_new)"
      ],
      "metadata": {
        "colab": {
          "base_uri": "https://localhost:8080/",
          "height": 0
        },
        "id": "HuJ9mjyA7Wey",
        "outputId": "0b8f85a2-5d44-4aa4-bd10-98a38e2c8d51"
      },
      "execution_count": 91,
      "outputs": [
        {
          "output_type": "stream",
          "name": "stdout",
          "text": [
            "[array([[1, 2]]), array([[3, 4]]), array([[5, 6]])]\n"
          ]
        }
      ]
    },
    {
      "cell_type": "markdown",
      "source": [
        "# **Numpy Array Functions**\n",
        "\n",
        "---\n",
        "\n"
      ],
      "metadata": {
        "id": "mkpZzC1P8T4d"
      }
    },
    {
      "cell_type": "markdown",
      "source": [
        "## **Search Array**\n",
        "\n",
        "> np.where()\n",
        "\n"
      ],
      "metadata": {
        "id": "E7BnyUCt8eG1"
      }
    },
    {
      "cell_type": "code",
      "source": [
        "var = np.array([1,2,3,9,1,5,6,4,8,7])\n",
        "x = np.where(var==2)\n",
        "print(x)"
      ],
      "metadata": {
        "colab": {
          "base_uri": "https://localhost:8080/",
          "height": 0
        },
        "id": "TgPsOsFH8ERJ",
        "outputId": "3efa06f7-0312-443a-e694-509776191cb5"
      },
      "execution_count": 94,
      "outputs": [
        {
          "output_type": "stream",
          "name": "stdout",
          "text": [
            "(array([1]),)\n"
          ]
        }
      ]
    },
    {
      "cell_type": "markdown",
      "source": [
        "## **Search Sorted Array**\n",
        "\n",
        "> np.searchsorted()\n",
        "\n",
        "binary search karta hai aur index return karta hai jahan par hamari specified value insert hojaye aur array sorted hi rahe.\n"
      ],
      "metadata": {
        "id": "eJQbYsly9A-_"
      }
    },
    {
      "cell_type": "code",
      "source": [
        "var = np.array([1,2,4,5,6])\n",
        "x = np.searchsorted(var, 3)\n",
        "print(x)"
      ],
      "metadata": {
        "colab": {
          "base_uri": "https://localhost:8080/",
          "height": 0
        },
        "id": "j3DndBeJ8syb",
        "outputId": "4040ffa7-18cb-45b7-b0f9-a16940a2feac"
      },
      "execution_count": 96,
      "outputs": [
        {
          "output_type": "stream",
          "name": "stdout",
          "text": [
            "2\n"
          ]
        }
      ]
    },
    {
      "cell_type": "markdown",
      "source": [
        "## **Sort Array**\n",
        "\n",
        "> np.sort()\n"
      ],
      "metadata": {
        "id": "xbNcKe6094Oe"
      }
    },
    {
      "cell_type": "code",
      "source": [
        "var = np.array([1,2,3,9,1,5,6,4,8,7])\n",
        "print(np.sort(var))"
      ],
      "metadata": {
        "colab": {
          "base_uri": "https://localhost:8080/",
          "height": 0
        },
        "id": "36a2ekhT9wNx",
        "outputId": "41000f5e-420f-4223-fbb9-67fbac5a1e26"
      },
      "execution_count": 99,
      "outputs": [
        {
          "output_type": "stream",
          "name": "stdout",
          "text": [
            "[1 1 2 3 4 5 6 7 8 9]\n"
          ]
        }
      ]
    },
    {
      "cell_type": "markdown",
      "source": [
        "## **Shuffle Array**\n",
        "\n",
        "> np.random.shuffle()\n"
      ],
      "metadata": {
        "id": "7LVvZCAc-9sm"
      }
    },
    {
      "cell_type": "code",
      "source": [
        "var = np.array([1,2,3,4,5])\n",
        "np.random.shuffle(var)\n",
        "print(var)"
      ],
      "metadata": {
        "colab": {
          "base_uri": "https://localhost:8080/",
          "height": 0
        },
        "id": "xBsu0cl0-GAE",
        "outputId": "9d491cac-9b69-47f6-c72e-5a4e4f6aa47e"
      },
      "execution_count": 103,
      "outputs": [
        {
          "output_type": "stream",
          "name": "stdout",
          "text": [
            "[2 3 5 4 1]\n"
          ]
        }
      ]
    },
    {
      "cell_type": "markdown",
      "source": [
        "## **Unique Array**\n",
        "\n",
        "> np.unique()\n",
        "union ke tarha same elements ko 1 baar likhta hai"
      ],
      "metadata": {
        "id": "cpIi5ZR7_RIW"
      }
    },
    {
      "cell_type": "code",
      "source": [
        "var = np.array([1,2,3,9,1,5,6,4,8,7])\n",
        "x = np.unique(var)\n",
        "print(x)"
      ],
      "metadata": {
        "colab": {
          "base_uri": "https://localhost:8080/",
          "height": 0
        },
        "id": "95hBrBiL_MkS",
        "outputId": "d75c6f88-4902-472c-bee8-583df3d281ab"
      },
      "execution_count": 108,
      "outputs": [
        {
          "output_type": "stream",
          "name": "stdout",
          "text": [
            "[1 2 3 4 5 6 7 8 9]\n"
          ]
        }
      ]
    },
    {
      "cell_type": "markdown",
      "source": [
        "## **Resize Array**\n",
        "\n",
        "> np.resize()\n"
      ],
      "metadata": {
        "id": "aK8nhI_YAME2"
      }
    },
    {
      "cell_type": "code",
      "source": [
        "var = np.array([1,2,3,4,5,6])\n",
        "x = np.resize(var,(2,3))\n",
        "print(x)"
      ],
      "metadata": {
        "colab": {
          "base_uri": "https://localhost:8080/",
          "height": 0
        },
        "id": "sNSbSa59_cZT",
        "outputId": "b44d8f24-8766-4559-a7ec-0f8900db0ac3"
      },
      "execution_count": 109,
      "outputs": [
        {
          "output_type": "stream",
          "name": "stdout",
          "text": [
            "[[1 2 3]\n",
            " [4 5 6]]\n"
          ]
        }
      ]
    },
    {
      "cell_type": "markdown",
      "source": [
        "## **Flatten / Ravel**\n",
        "\n",
        "> np.flatten()\n",
        "\n",
        "> np.ravel()\n",
        "\n",
        "to convert multidimensional array to one dimension\n"
      ],
      "metadata": {
        "id": "eho0S-NcAV3m"
      }
    },
    {
      "cell_type": "code",
      "source": [
        "arr = np.array([[1,2,3],[4,5,6]])\n",
        "\n",
        "print(arr.flatten(order = \"F\"))\n",
        "print(arr.ravel(order = \"C\"))"
      ],
      "metadata": {
        "colab": {
          "base_uri": "https://localhost:8080/",
          "height": 0
        },
        "id": "nsgWrRLbAVJu",
        "outputId": "b37f25b8-0806-4c97-e673-1d70036636ff"
      },
      "execution_count": 115,
      "outputs": [
        {
          "output_type": "stream",
          "name": "stdout",
          "text": [
            "[1 4 2 5 3 6]\n",
            "[1 2 3 4 5 6]\n"
          ]
        }
      ]
    },
    {
      "cell_type": "markdown",
      "source": [
        "# **Insert and Delete Function**\n",
        "\n",
        "\n",
        "\n",
        "\n",
        "\n",
        "```\n",
        " np.insert(array,2,\"Shayan\")\n",
        "\n",
        "```\n",
        "\n",
        "\n",
        "> array = array name\n",
        "\n",
        "> 2 = insert position (index)\n",
        "\n",
        "> \"Shayan\" = value\n",
        "\n",
        "\n",
        "\n",
        "\n",
        "\n",
        "\n",
        "\n",
        "---\n",
        "\n"
      ],
      "metadata": {
        "id": "2rm3jDD3CjZw"
      }
    },
    {
      "cell_type": "markdown",
      "source": [
        "# **Insert**"
      ],
      "metadata": {
        "id": "56S-hJeICpk3"
      }
    },
    {
      "cell_type": "code",
      "source": [
        "arr = np.array([\"khan\",\"afridi\"])\n",
        "print(np.insert(arr,0,\"shayan\"))"
      ],
      "metadata": {
        "colab": {
          "base_uri": "https://localhost:8080/",
          "height": 0
        },
        "id": "Dgt1c4nYAwgQ",
        "outputId": "3d5118cc-003d-40c6-aecb-eac7cf0f11b8"
      },
      "execution_count": 116,
      "outputs": [
        {
          "output_type": "stream",
          "name": "stdout",
          "text": [
            "['shayan' 'khan' 'afridi']\n"
          ]
        }
      ]
    },
    {
      "cell_type": "markdown",
      "source": [
        "# **Delete**"
      ],
      "metadata": {
        "id": "EmuwdgsJD3GB"
      }
    },
    {
      "cell_type": "code",
      "source": [
        "arr = np.array([\"shayan\",\"khan\",\"afridi\"])\n",
        "print(np.delete(arr,2))"
      ],
      "metadata": {
        "colab": {
          "base_uri": "https://localhost:8080/"
        },
        "id": "W2ycoO5kDdTw",
        "outputId": "5041fef0-8d6d-46d0-8c13-76aa75aadc77"
      },
      "execution_count": 128,
      "outputs": [
        {
          "output_type": "stream",
          "name": "stdout",
          "text": [
            "['shayan' 'khan']\n"
          ]
        }
      ]
    },
    {
      "cell_type": "markdown",
      "source": [
        "# **Matrix in Numpy Arrays**\n",
        "\n",
        "---\n",
        "\n",
        "\n",
        "\n",
        "```\n",
        "  mx = np.matrix([[1,2,3],[4,5,6]])\n",
        "\n",
        "```\n",
        "\n",
        "\n",
        "---\n",
        "\n",
        "\n"
      ],
      "metadata": {
        "id": "wmR1zO2-EMDj"
      }
    },
    {
      "cell_type": "markdown",
      "source": [
        "## **Arithmetic Operation in Matrix**"
      ],
      "metadata": {
        "id": "ZD94EdsuEy3v"
      }
    },
    {
      "cell_type": "markdown",
      "source": [
        "### **Addition, Subtraction Same hi hoti hai array aur matrix me **"
      ],
      "metadata": {
        "id": "uapZn8DSFk44"
      }
    },
    {
      "cell_type": "markdown",
      "source": [
        "### **Multiplication**\n",
        "\n",
        "> matrix.dot(matrix2)\n",
        "\n"
      ],
      "metadata": {
        "id": "zMHViRciF8Rv"
      }
    },
    {
      "cell_type": "code",
      "source": [
        "mx1 = np.matrix([[1,2],[3,4]])\n",
        "mx2 = np.matrix([[4,5],[6,7]])\n",
        "\n",
        "print(mx1.dot(mx2))"
      ],
      "metadata": {
        "colab": {
          "base_uri": "https://localhost:8080/",
          "height": 0
        },
        "id": "GTnPbFQXEFyw",
        "outputId": "9dc90560-ee07-4d99-a2a4-c09201613711"
      },
      "execution_count": 118,
      "outputs": [
        {
          "output_type": "stream",
          "name": "stdout",
          "text": [
            "[[16 19]\n",
            " [36 43]]\n"
          ]
        }
      ]
    },
    {
      "cell_type": "markdown",
      "source": [
        "# **Matrix Functions**\n",
        "\n",
        "---\n",
        "\n"
      ],
      "metadata": {
        "id": "T9ihpXkYJYI4"
      }
    },
    {
      "cell_type": "markdown",
      "source": [
        "## **1. Transpose**\n",
        "\n",
        "> rows becomes columns and columns become rows\n",
        "\n"
      ],
      "metadata": {
        "id": "F8EknA8LJfro"
      }
    },
    {
      "cell_type": "code",
      "source": [
        "var = np.matrix([[1,2,3],[4,5,6]])\n",
        "print(np.transpose(var))"
      ],
      "metadata": {
        "colab": {
          "base_uri": "https://localhost:8080/",
          "height": 0
        },
        "id": "qJuQM1i7JQ_x",
        "outputId": "aadc5efd-ba70-4d6e-bf9d-7b8e77c7f534"
      },
      "execution_count": 119,
      "outputs": [
        {
          "output_type": "stream",
          "name": "stdout",
          "text": [
            "[[1 4]\n",
            " [2 5]\n",
            " [3 6]]\n"
          ]
        }
      ]
    },
    {
      "cell_type": "markdown",
      "source": [
        "## **2. Inverse**\n",
        "\n",
        "> np.linalg.inv(arr)\n",
        "\n"
      ],
      "metadata": {
        "id": "y3yvmtV8J5hw"
      }
    },
    {
      "cell_type": "code",
      "source": [
        "arr = np.matrix([[1, 2], [3, 4]])\n",
        "print(np.linalg.inv(arr))"
      ],
      "metadata": {
        "colab": {
          "base_uri": "https://localhost:8080/",
          "height": 0
        },
        "id": "Dp0ij2L7JxmF",
        "outputId": "7de455dd-9267-465b-ed69-d6b70c3867fe"
      },
      "execution_count": 126,
      "outputs": [
        {
          "output_type": "stream",
          "name": "stdout",
          "text": [
            "[[-2.   1. ]\n",
            " [ 1.5 -0.5]]\n"
          ]
        }
      ]
    },
    {
      "cell_type": "markdown",
      "source": [
        "## **3. Power**\n",
        "\n",
        "> np.linalg.matrix_power(arr)\n",
        "\n"
      ],
      "metadata": {
        "id": "p6U1ue5aKYAj"
      }
    },
    {
      "cell_type": "code",
      "source": [
        "arr = np.matrix([[1, 2], [3, 4]])\n",
        "print(np.linalg.matrix_power(arr,2))"
      ],
      "metadata": {
        "colab": {
          "base_uri": "https://localhost:8080/",
          "height": 0
        },
        "id": "CnkhazyUKGVa",
        "outputId": "737a97ea-6a39-4d83-a0fb-1006ab7c27a5"
      },
      "execution_count": 127,
      "outputs": [
        {
          "output_type": "stream",
          "name": "stdout",
          "text": [
            "[[ 7 10]\n",
            " [15 22]]\n"
          ]
        }
      ]
    },
    {
      "cell_type": "markdown",
      "source": [
        "## **4. Determinant**\n",
        "\n",
        "> np.linalg.det(arr)\n",
        "\n"
      ],
      "metadata": {
        "id": "c3Fbga2mKwgN"
      }
    },
    {
      "cell_type": "code",
      "source": [
        "arr = np.matrix([[1, 2], [3, 4]])\n",
        "print(np.linalg.det(arr))"
      ],
      "metadata": {
        "colab": {
          "base_uri": "https://localhost:8080/",
          "height": 0
        },
        "id": "KuYUT50jKm53",
        "outputId": "07231b8d-6bac-498d-ede8-abac8080948d"
      },
      "execution_count": 125,
      "outputs": [
        {
          "output_type": "stream",
          "name": "stdout",
          "text": [
            "-2.0000000000000004\n"
          ]
        }
      ]
    },
    {
      "cell_type": "code",
      "source": [],
      "metadata": {
        "id": "jcbvuVbjLAOo"
      },
      "execution_count": null,
      "outputs": []
    }
  ]
}