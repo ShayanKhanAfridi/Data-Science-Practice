{
  "nbformat": 4,
  "nbformat_minor": 0,
  "metadata": {
    "colab": {
      "provenance": []
    },
    "kernelspec": {
      "name": "python3",
      "display_name": "Python 3"
    },
    "language_info": {
      "name": "python"
    }
  },
  "cells": [
    {
      "cell_type": "markdown",
      "source": [
        "\n",
        "\n",
        "---\n",
        "\n",
        "\n",
        "# **NumPy Practice Problems**\n",
        "\n",
        "\n",
        "---\n",
        "\n"
      ],
      "metadata": {
        "id": "CMKUit_UjpxY"
      }
    },
    {
      "cell_type": "markdown",
      "source": [
        "**Q-1** Create a 1D NumPy array from 1 to 20.\n",
        "  *   Find its shape, size, and data type.\n",
        "  *   Reverse the array without using loops.\n"
      ],
      "metadata": {
        "id": "6K5Fr9WmqfZt"
      }
    },
    {
      "cell_type": "code",
      "execution_count": 166,
      "metadata": {
        "id": "2kObmdjSizwE"
      },
      "outputs": [],
      "source": [
        "import numpy as np"
      ]
    },
    {
      "cell_type": "code",
      "source": [
        "# Array create\n",
        "arr = np.arange(1,21)\n",
        "print(\"Array :\",arr)\n",
        "\n",
        "# part i\n",
        "print(\"\\nShape :\",arr.shape)\n",
        "print(\"Size :\", arr.size)\n",
        "print(\"Data type :\",arr.dtype)\n",
        "\n",
        "# part ii\n",
        "print(\"\\nReverse Array :\",np.flip(arr))"
      ],
      "metadata": {
        "colab": {
          "base_uri": "https://localhost:8080/"
        },
        "id": "4xTEFnU9todY",
        "outputId": "06adff19-17e8-46c3-a9cd-ddaa07a77e6e"
      },
      "execution_count": 167,
      "outputs": [
        {
          "output_type": "stream",
          "name": "stdout",
          "text": [
            "Array : [ 1  2  3  4  5  6  7  8  9 10 11 12 13 14 15 16 17 18 19 20]\n",
            "\n",
            "Shape : (20,)\n",
            "Size : 20\n",
            "Data type : int64\n",
            "\n",
            "Reverse Array : [20 19 18 17 16 15 14 13 12 11 10  9  8  7  6  5  4  3  2  1]\n"
          ]
        }
      ]
    },
    {
      "cell_type": "markdown",
      "source": [
        "\n",
        "\n",
        "---\n",
        "\n"
      ],
      "metadata": {
        "id": "MG_NbUriwKIO"
      }
    },
    {
      "cell_type": "markdown",
      "source": [
        "**Q-2** Generate a 2D array (3×4) filled with random integers (0–50).\n",
        "\n",
        "\n",
        "\n",
        "*   Find the max, min, and mean.\n",
        "*   Replace all even numbers with -1.\n",
        "\n"
      ],
      "metadata": {
        "id": "wTowfSqdv8d1"
      }
    },
    {
      "cell_type": "code",
      "source": [
        "# Array Create\n",
        "arr = np.random.randint(0,50,(3,4))\n",
        "print(\"Original Array :\\n\",arr)\n",
        "\n",
        "# Part i\n",
        "print(\"\\nMax :\",arr.max())\n",
        "print(\"Min :\",arr.min())\n",
        "print(\"Mean :\",arr.mean())\n",
        "\n",
        "# Part ii\n",
        "arr[arr % 2 == 0] = -1\n",
        "print(\"\\nArray After:\\n\",arr)"
      ],
      "metadata": {
        "colab": {
          "base_uri": "https://localhost:8080/"
        },
        "id": "ILylCtbEvcMl",
        "outputId": "50be97cd-8a43-4fed-f7d8-a3b92105b499"
      },
      "execution_count": 168,
      "outputs": [
        {
          "output_type": "stream",
          "name": "stdout",
          "text": [
            "Original Array :\n",
            " [[41 16  0 19]\n",
            " [ 2 14 12 12]\n",
            " [38 37 47 16]]\n",
            "\n",
            "Max : 47\n",
            "Min : 0\n",
            "Mean : 21.166666666666668\n",
            "\n",
            "Array After:\n",
            " [[41 -1 -1 19]\n",
            " [-1 -1 -1 -1]\n",
            " [-1 37 47 -1]]\n"
          ]
        }
      ]
    },
    {
      "cell_type": "markdown",
      "source": [
        "\n",
        "\n",
        "---\n",
        "\n"
      ],
      "metadata": {
        "id": "P-WbpMqOwmEG"
      }
    },
    {
      "cell_type": "markdown",
      "source": [
        "\n",
        "\n",
        "**Q-3** Create a 5×5 identity matrix.\n",
        "\n",
        "\n",
        "\n",
        "*   Change the diagonal values to 7.\n",
        "\n"
      ],
      "metadata": {
        "id": "EUuyG0zvwUud"
      }
    },
    {
      "cell_type": "code",
      "source": [
        "# Array Create\n",
        "arr = np.eye(5,5)\n",
        "print(\"Original Identity Matrix :\\n\",arr)\n",
        "\n",
        "# Part i\n",
        "arr[arr == 1] = 7\n",
        "print(\"\\nArray After :\\n\",arr)"
      ],
      "metadata": {
        "colab": {
          "base_uri": "https://localhost:8080/"
        },
        "id": "4kBwaQXgwc3-",
        "outputId": "371a9907-8347-4cc4-91e6-c5c6cd85af1f"
      },
      "execution_count": 169,
      "outputs": [
        {
          "output_type": "stream",
          "name": "stdout",
          "text": [
            "Original Identity Matrix :\n",
            " [[1. 0. 0. 0. 0.]\n",
            " [0. 1. 0. 0. 0.]\n",
            " [0. 0. 1. 0. 0.]\n",
            " [0. 0. 0. 1. 0.]\n",
            " [0. 0. 0. 0. 1.]]\n",
            "\n",
            "Array After :\n",
            " [[7. 0. 0. 0. 0.]\n",
            " [0. 7. 0. 0. 0.]\n",
            " [0. 0. 7. 0. 0.]\n",
            " [0. 0. 0. 7. 0.]\n",
            " [0. 0. 0. 0. 7.]]\n"
          ]
        }
      ]
    },
    {
      "cell_type": "markdown",
      "source": [
        "\n",
        "\n",
        "---\n",
        "\n"
      ],
      "metadata": {
        "id": "j3GOl3fMxaVe"
      }
    },
    {
      "cell_type": "markdown",
      "source": [
        "**Q-4** Given arr = np.arange(1, 26).reshape(5,5)\n",
        "\n",
        "\n",
        "*   Extract the 2nd column.\n",
        "*   Extract the sub-matrix of last 3 rows & last 3 columns.\n",
        "*   Replace the center element (row=3, col=3) with 999.\n",
        "\n",
        "\n",
        "\n",
        "\n",
        "\n",
        "\n",
        "\n"
      ],
      "metadata": {
        "id": "eu-xPD4wxOy_"
      }
    },
    {
      "cell_type": "code",
      "source": [
        "# Array Create\n",
        "arr = np.arange(1, 26).reshape(5,5)\n",
        "print(\"Original Array :\\n\",arr)\n",
        "\n",
        "# Part i\n",
        "print(\"\\n2nd Column :\",arr[:,1])\n",
        "\n",
        "# part ii\n",
        "print(\"\\nsub-matrix of last 3 rows & last 3 columns :\\n\",arr[2:,2:])\n",
        "\n",
        "# part iii\n",
        "arr[2, 2] = 999\n",
        "print(\"\\n after replacing center element (row=3, col=3) with 999 :\\n\",arr)"
      ],
      "metadata": {
        "colab": {
          "base_uri": "https://localhost:8080/"
        },
        "id": "KGpXra2xxZaG",
        "outputId": "fc756da7-90e1-41e1-da74-f666a19444ec"
      },
      "execution_count": 170,
      "outputs": [
        {
          "output_type": "stream",
          "name": "stdout",
          "text": [
            "Original Array :\n",
            " [[ 1  2  3  4  5]\n",
            " [ 6  7  8  9 10]\n",
            " [11 12 13 14 15]\n",
            " [16 17 18 19 20]\n",
            " [21 22 23 24 25]]\n",
            "\n",
            "2nd Column : [ 2  7 12 17 22]\n",
            "\n",
            "sub-matrix of last 3 rows & last 3 columns :\n",
            " [[13 14 15]\n",
            " [18 19 20]\n",
            " [23 24 25]]\n",
            "\n",
            " after replacing center element (row=3, col=3) with 999 :\n",
            " [[  1   2   3   4   5]\n",
            " [  6   7   8   9  10]\n",
            " [ 11  12 999  14  15]\n",
            " [ 16  17  18  19  20]\n",
            " [ 21  22  23  24  25]]\n"
          ]
        }
      ]
    },
    {
      "cell_type": "markdown",
      "source": [
        "\n",
        "\n",
        "---\n",
        "\n"
      ],
      "metadata": {
        "id": "TikHGVqKx9pt"
      }
    },
    {
      "cell_type": "markdown",
      "source": [
        "**Q-5** Create an array of sales for 7 days: [250, 300, 270, 400, 325, 290, 310]\n",
        "\n",
        "\n",
        "*   Find average, max, and min sales.\n",
        "*   Which days had sales above average?\n",
        "*   Increase sales by 10%.\n",
        "\n"
      ],
      "metadata": {
        "id": "k_yaAZKMxedO"
      }
    },
    {
      "cell_type": "code",
      "source": [
        "# Array Create\n",
        "arr = np.array([250, 300, 270, 400, 325, 290, 310])\n",
        "print(\"Original Array :\\n\",arr)\n",
        "\n",
        "# Part i\n",
        "avg = np.mean(arr)\n",
        "print(\"\\nAverage Sales :\",avg)\n",
        "print(\"Max :\",arr.max())\n",
        "print(\"Min :\",arr.min())\n",
        "\n",
        "# Part ii\n",
        "above_avg = np.where(arr>avg)[0]\n",
        "print(\"\\nSales Above Average :\",above_avg)\n",
        "print(\"Sales on those days :\",arr[above_avg])\n",
        "\n",
        "# Part iii\n",
        "inc = arr * 1.10\n",
        "print(\"\\nSales after 10% increase :\",inc)"
      ],
      "metadata": {
        "colab": {
          "base_uri": "https://localhost:8080/"
        },
        "id": "vTdp4_bTx9Bu",
        "outputId": "7e03cf3c-368f-45a8-f1cb-24970c6c92ef"
      },
      "execution_count": 171,
      "outputs": [
        {
          "output_type": "stream",
          "name": "stdout",
          "text": [
            "Original Array :\n",
            " [250 300 270 400 325 290 310]\n",
            "\n",
            "Average Sales : 306.42857142857144\n",
            "Max : 400\n",
            "Min : 250\n",
            "\n",
            "Sales Above Average : [3 4 6]\n",
            "Sales on those days : [400 325 310]\n",
            "\n",
            "Sales after 10% increase : [275.  330.  297.  440.  357.5 319.  341. ]\n"
          ]
        }
      ]
    },
    {
      "cell_type": "markdown",
      "source": [
        "\n",
        "\n",
        "---\n",
        "\n"
      ],
      "metadata": {
        "id": "KnaZGGNWyIle"
      }
    },
    {
      "cell_type": "markdown",
      "source": [
        "**Q-6** Temperatures in Celsius: [36.5, 37.8, 39.2, 35.6, 38.1]\n",
        "\n",
        "\n",
        "*   Convert to Fahrenheit.\n",
        "*   Find which days indicate fever (≥ 37.5°C).\n",
        "\n",
        "\n",
        "\n",
        "\n"
      ],
      "metadata": {
        "id": "VKYdb_kmyAOY"
      }
    },
    {
      "cell_type": "code",
      "source": [
        "# Array Create\n",
        "tc = np.array([36.5, 37.8, 39.2, 35.6, 38.1])\n",
        "print(\"Temperature in Celsius :\",tc)\n",
        "\n",
        "# Part i\n",
        "tf = (tc * (9/5) + 32)\n",
        "print(\"\\nTemperature in Fahrenheit :\",tf)\n",
        "\n",
        "# Part ii\n",
        "temp_more = np.where(tc>=37.5)[0]\n",
        "print(\"\\nTemperature >= 37.5 (Index):\",temp_more)\n",
        "print(\"Temperature >= 37.5 (Values):\",tc[temp_more])"
      ],
      "metadata": {
        "colab": {
          "base_uri": "https://localhost:8080/"
        },
        "id": "bVu6MlroyHnh",
        "outputId": "520a64b9-3ce1-4cf4-dd14-b85eeeca6396"
      },
      "execution_count": 172,
      "outputs": [
        {
          "output_type": "stream",
          "name": "stdout",
          "text": [
            "Temperature in Celsius : [36.5 37.8 39.2 35.6 38.1]\n",
            "\n",
            "Temperature in Fahrenheit : [ 97.7  100.04 102.56  96.08 100.58]\n",
            "\n",
            "Temperature >= 37.5 (Index): [1 2 4]\n",
            "Temperature >= 37.5 (Values): [37.8 39.2 38.1]\n"
          ]
        }
      ]
    },
    {
      "cell_type": "markdown",
      "source": [
        "\n",
        "\n",
        "---\n",
        "\n"
      ],
      "metadata": {
        "id": "1dBdAvB5yUoG"
      }
    },
    {
      "cell_type": "markdown",
      "source": [
        "**Q-7** Create matrix A = [[2,1],[7,4]]\n",
        "\n",
        "\n",
        "*   Find determinant, transpose, and inverse.\n",
        "*   Compute A³.\n",
        "\n",
        "\n",
        "\n"
      ],
      "metadata": {
        "id": "eOPGG7s3yKUG"
      }
    },
    {
      "cell_type": "code",
      "source": [
        "# Create Matrix\n",
        "mx = np.matrix([[2,1],[7,4]])\n",
        "print(\"Original Matrix :\\n\",mx)\n",
        "\n",
        "# Part i\n",
        "print(\"\\nDeterminant :\",np.linalg.det(mx))\n",
        "print(\"Transpose :\\n\",np.transpose(mx))\n",
        "print(\"\\nInverse :\\n\",np.linalg.inv(mx))\n",
        "\n",
        "# Part ii\n",
        "print(\"\\nPower :\\n\",np.linalg.matrix_power(mx,3))"
      ],
      "metadata": {
        "colab": {
          "base_uri": "https://localhost:8080/"
        },
        "id": "fMxIyArtyTFB",
        "outputId": "179798d6-9d93-4794-f228-d56c4b45b38f"
      },
      "execution_count": 173,
      "outputs": [
        {
          "output_type": "stream",
          "name": "stdout",
          "text": [
            "Original Matrix :\n",
            " [[2 1]\n",
            " [7 4]]\n",
            "\n",
            "Determinant : 0.9999999999999996\n",
            "Transpose :\n",
            " [[2 7]\n",
            " [1 4]]\n",
            "\n",
            "Inverse :\n",
            " [[ 4. -1.]\n",
            " [-7.  2.]]\n",
            "\n",
            "Power :\n",
            " [[ 64  35]\n",
            " [245 134]]\n"
          ]
        }
      ]
    },
    {
      "cell_type": "markdown",
      "source": [
        "\n",
        "\n",
        "---\n",
        "\n"
      ],
      "metadata": {
        "id": "WUDRXhgfygju"
      }
    },
    {
      "cell_type": "markdown",
      "source": [
        "**Q-8** Solve the system of equations using NumPy:\n",
        "\n",
        "2x + y = 5  \n",
        "3x + 4y = 6\n",
        "\n",
        "\n",
        "\n",
        "```\n",
        "Isko matrix form me likh lete hain\n",
        "            A⋅X=B\n",
        "Where\n",
        "        A=[23], X=[x​],B=[5​]\n",
        "          ​[14​]    [y]   [6]\n",
        "```\n",
        "\n"
      ],
      "metadata": {
        "id": "Dqb4by8PyXMA"
      }
    },
    {
      "cell_type": "code",
      "source": [
        "# Coefficient matrix\n",
        "A = np.array([[2, 1],\n",
        "              [3, 4]])\n",
        "\n",
        "# Constants\n",
        "B = np.array([5, 6])\n",
        "\n",
        "# Solve Ax = B\n",
        "solution = np.linalg.solve(A, B)\n",
        "\n",
        "print(\"Solution [x, y] :\", solution)"
      ],
      "metadata": {
        "colab": {
          "base_uri": "https://localhost:8080/"
        },
        "id": "8t49IdbHyfSg",
        "outputId": "f35f0624-fa5d-4a2e-a419-eadf48e50999"
      },
      "execution_count": 174,
      "outputs": [
        {
          "output_type": "stream",
          "name": "stdout",
          "text": [
            "Solution [x, y] : [ 2.8 -0.6]\n"
          ]
        }
      ]
    },
    {
      "cell_type": "markdown",
      "source": [
        "\n",
        "\n",
        "---\n",
        "\n"
      ],
      "metadata": {
        "id": "ycojfFlyy1EW"
      }
    },
    {
      "cell_type": "markdown",
      "source": [
        "**Q-9** Student marks (5×3 matrix):\n",
        "\n",
        "\n",
        "\n",
        "```\n",
        "[[80, 90, 78],\n",
        " [88, 76, 92],\n",
        " [90, 85, 85],\n",
        " [70, 65, 60],\n",
        " [95, 100, 98]]\n",
        "```\n",
        "\n",
        "*   Find average marks of each student.\n",
        "*   Find average in each subject.\n",
        "*   Which student has the highest total?\n",
        "\n",
        "\n",
        "\n",
        "\n",
        "\n",
        "\n",
        "\n",
        "\n",
        "\n"
      ],
      "metadata": {
        "id": "vf13hUByykQO"
      }
    },
    {
      "cell_type": "code",
      "source": [
        "mx = np.matrix([[80, 90, 78],\n",
        " [88, 76, 92],\n",
        " [90, 85, 85],\n",
        " [70, 65, 60],\n",
        " [95, 100, 98]])\n",
        "print(\"Original Matrix :\\n\", mx)\n",
        "\n",
        "# Average of Each Student\n",
        "print(\"\\nAverage of Each Student :\\n\",np.mean(mx,axis = 1))\n",
        "\n",
        "# Average of Each Subject\n",
        "print(\"\\nAverage of Each Subject :\\n\",np.mean(mx,axis = 0))\n",
        "\n",
        "# Student with Highest Total\n",
        "total_of_students = np.sum(mx, axis=1)   # row-wise sum\n",
        "highest_total = np.max(total_of_students)\n",
        "student_index = np.argmax(total_of_students)  # index of student\n",
        "\n",
        "print(\"\\nHighest Total Marks :\", highest_total)\n",
        "print(\"Student with Highest Total (index):\", student_index)"
      ],
      "metadata": {
        "colab": {
          "base_uri": "https://localhost:8080/"
        },
        "id": "_YlBeM82yxTs",
        "outputId": "f6e4b59f-4e01-4b0c-f0c1-7dcd7b84ab2f"
      },
      "execution_count": 175,
      "outputs": [
        {
          "output_type": "stream",
          "name": "stdout",
          "text": [
            "Original Matrix :\n",
            " [[ 80  90  78]\n",
            " [ 88  76  92]\n",
            " [ 90  85  85]\n",
            " [ 70  65  60]\n",
            " [ 95 100  98]]\n",
            "\n",
            "Average of Each Student :\n",
            " [[82.66666667]\n",
            " [85.33333333]\n",
            " [86.66666667]\n",
            " [65.        ]\n",
            " [97.66666667]]\n",
            "\n",
            "Average of Each Subject :\n",
            " [[84.6 83.2 82.6]]\n",
            "\n",
            "Highest Total Marks : 293\n",
            "Student with Highest Total (index): 4\n"
          ]
        }
      ]
    },
    {
      "cell_type": "markdown",
      "source": [
        "\n",
        "\n",
        "---\n",
        "\n"
      ],
      "metadata": {
        "id": "tsH5A1h4zDdW"
      }
    },
    {
      "cell_type": "markdown",
      "source": [
        "**Q-10** Stock prices: [120, 125, 123, 130, 128]\n",
        "\n",
        "\n",
        "*   Find daily changes.\n",
        "*   Find percentage change.\n",
        "*   Which day had max increase?\n",
        "\n",
        "\n",
        "\n",
        "\n",
        "\n",
        "\n",
        "\n"
      ],
      "metadata": {
        "id": "EQu7C2Fdy3ZW"
      }
    },
    {
      "cell_type": "code",
      "source": [
        "prices = np.array([120, 125, 123, 130, 128])\n",
        "print(\"Stock Prices :\", prices)\n",
        "\n",
        "# Part i (Daily Changes)\n",
        "changes = np.diff(prices)\n",
        "print(\"Daily Changes :\", changes)\n",
        "\n",
        "# Part ii (Changes in Percentage)\n",
        "percent_change = (changes / prices[:-1]) * 100\n",
        "print(\"Percentage Change :\", percent_change)\n",
        "\n",
        "# Part iii (Day with Max Increase)\n",
        "max_day = np.argmax(changes) + 1   # +1 because change belongs to next day\n",
        "print(\"Day with Max Increase :\", max_day)"
      ],
      "metadata": {
        "colab": {
          "base_uri": "https://localhost:8080/"
        },
        "id": "YY19i5CSzBmA",
        "outputId": "d2425bea-1756-4c96-a4bc-4156743c4b4c"
      },
      "execution_count": 176,
      "outputs": [
        {
          "output_type": "stream",
          "name": "stdout",
          "text": [
            "Stock Prices : [120 125 123 130 128]\n",
            "Daily Changes : [ 5 -2  7 -2]\n",
            "Percentage Change : [ 4.16666667 -1.6         5.69105691 -1.53846154]\n",
            "Day with Max Increase : 3\n"
          ]
        }
      ]
    },
    {
      "cell_type": "markdown",
      "source": [
        "\n",
        "\n",
        "---\n",
        "\n"
      ],
      "metadata": {
        "id": "TpLovnN6zOgO"
      }
    },
    {
      "cell_type": "markdown",
      "source": [
        "**Q-11** Simulate a 5×5 grayscale image with random values (0–255).\n",
        "\n",
        "\n",
        "*   Find max, min, and mean brightness.\n",
        "\n",
        "\n",
        "\n",
        "\n"
      ],
      "metadata": {
        "id": "5oeyQ4HrzFC2"
      }
    },
    {
      "cell_type": "code",
      "source": [
        "# 5×5 grayscale image with values 0–255\n",
        "img = np.random.randint(0, 256, (5, 5))\n",
        "print(\"Image:\\n\", img)\n",
        "\n",
        "# Max, Min, Mean brightness\n",
        "print(\"\\nMax:\", img.max())\n",
        "print(\"Min:\", img.min())\n",
        "print(\"Mean:\", img.mean())"
      ],
      "metadata": {
        "colab": {
          "base_uri": "https://localhost:8080/"
        },
        "id": "k7TvqjFGzNna",
        "outputId": "53173e9f-e817-4f1a-c7e1-c9a684159355"
      },
      "execution_count": 177,
      "outputs": [
        {
          "output_type": "stream",
          "name": "stdout",
          "text": [
            "Image:\n",
            " [[ 74  69 193  20  76]\n",
            " [148  72 245 179 246]\n",
            " [197 203 109  12 114]\n",
            " [ 40  80 174 249 189]\n",
            " [155 171   8  17 148]]\n",
            "\n",
            "Max: 249\n",
            "Min: 8\n",
            "Mean: 127.52\n"
          ]
        }
      ]
    },
    {
      "cell_type": "markdown",
      "source": [
        "\n",
        "\n",
        "---\n",
        "\n"
      ],
      "metadata": {
        "id": "o8ywsoVoz7BQ"
      }
    },
    {
      "cell_type": "markdown",
      "source": [
        "**Q-12** Create a 3D array of shape (3,3,3).\n",
        "\n",
        "\n",
        "*   Extract the 2nd matrix (all rows, all cols from depth=2).\n",
        "*   Extract the diagonal of each matrix (depth-wise).\n",
        "\n",
        "\n",
        "\n",
        "\n"
      ],
      "metadata": {
        "id": "1CcIrYgMzPnY"
      }
    },
    {
      "cell_type": "code",
      "source": [
        "# Create 3D array (3×3×3)\n",
        "arr = np.arange(1, 28).reshape(3,3,3)\n",
        "print(\"3D Array:\\n\", arr)\n",
        "\n",
        "# Part (i)\n",
        "second_matrix = arr[1, :, :]   # all rows, all cols from depth=2\n",
        "print(\"\\n2nd Matrix (depth=2):\\n\", second_matrix)\n",
        "\n",
        "# Part (ii)\n",
        "diagonals = np.diagonal(arr, axis1=1, axis2=2)\n",
        "print(\"\\nDiagonals of each matrix (depth-wise):\\n\", diagonals)"
      ],
      "metadata": {
        "colab": {
          "base_uri": "https://localhost:8080/"
        },
        "id": "va1CtWp2z6Qf",
        "outputId": "7791c82e-5bd4-45ed-eac6-c716777884c2"
      },
      "execution_count": 178,
      "outputs": [
        {
          "output_type": "stream",
          "name": "stdout",
          "text": [
            "3D Array:\n",
            " [[[ 1  2  3]\n",
            "  [ 4  5  6]\n",
            "  [ 7  8  9]]\n",
            "\n",
            " [[10 11 12]\n",
            "  [13 14 15]\n",
            "  [16 17 18]]\n",
            "\n",
            " [[19 20 21]\n",
            "  [22 23 24]\n",
            "  [25 26 27]]]\n",
            "\n",
            "2nd Matrix (depth=2):\n",
            " [[10 11 12]\n",
            " [13 14 15]\n",
            " [16 17 18]]\n",
            "\n",
            "Diagonals of each matrix (depth-wise):\n",
            " [[ 1  5  9]\n",
            " [10 14 18]\n",
            " [19 23 27]]\n"
          ]
        }
      ]
    },
    {
      "cell_type": "markdown",
      "source": [
        "\n",
        "\n",
        "---\n",
        "\n"
      ],
      "metadata": {
        "id": "tGR83KrB0PzB"
      }
    },
    {
      "cell_type": "markdown",
      "source": [
        "**Q-13** Given array:\n",
        "\n",
        "```\n",
        "arr = np.array([[1,2,3,3,1],\n",
        "                [0,9,1,2,8],\n",
        "                [1,2,3,8,8],\n",
        "                [1,2,3,3,1]])\n",
        "```\n",
        "*   Find unique rows.\n",
        "*   Find unique columns.\n",
        "\n",
        "\n",
        "\n",
        "\n",
        "\n"
      ],
      "metadata": {
        "id": "gqGfPbgj0CLW"
      }
    },
    {
      "cell_type": "code",
      "source": [
        "arr = np.array([[1,2,3,3,1],\n",
        "                [0,9,1,2,8],\n",
        "                [1,2,3,8,8],\n",
        "                [1,2,3,3,1]])\n",
        "print(\"Original Array :\\n\",arr)\n",
        "\n",
        "#Unique Rows\n",
        "unique_rows  = np.unique(arr,axis = 0)\n",
        "print(\"\\nUnique Rows :\\n\",unique_rows)\n",
        "\n",
        "#Unique Columns\n",
        "unique_cols = np.unique(arr,axis = 1)\n",
        "print(\"\\nUnique Columns :\\n\",unique_cols)"
      ],
      "metadata": {
        "colab": {
          "base_uri": "https://localhost:8080/"
        },
        "id": "Ma_osV4A0O4b",
        "outputId": "e117d061-dae8-498e-c6c8-8f707a1e448b"
      },
      "execution_count": 179,
      "outputs": [
        {
          "output_type": "stream",
          "name": "stdout",
          "text": [
            "Original Array :\n",
            " [[1 2 3 3 1]\n",
            " [0 9 1 2 8]\n",
            " [1 2 3 8 8]\n",
            " [1 2 3 3 1]]\n",
            "\n",
            "Unique Rows :\n",
            " [[0 9 1 2 8]\n",
            " [1 2 3 3 1]\n",
            " [1 2 3 8 8]]\n",
            "\n",
            "Unique Columns :\n",
            " [[1 1 2 3 3]\n",
            " [0 8 9 1 2]\n",
            " [1 8 2 3 8]\n",
            " [1 1 2 3 3]]\n"
          ]
        }
      ]
    },
    {
      "cell_type": "code",
      "source": [],
      "metadata": {
        "id": "SFW6-uso_d9I"
      },
      "execution_count": 179,
      "outputs": []
    }
  ]
}